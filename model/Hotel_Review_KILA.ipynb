{
  "nbformat": 4,
  "nbformat_minor": 0,
  "metadata": {
    "colab": {
      "name": "Hotel_Review.ipynb",
      "provenance": [],
      "collapsed_sections": [],
      "authorship_tag": "ABX9TyOhQO9h66JPVYwhCXXmB6ji",
      "include_colab_link": true
    },
    "kernelspec": {
      "name": "python3",
      "display_name": "Python 3"
    }
  },
  "cells": [
    {
      "cell_type": "markdown",
      "metadata": {
        "id": "view-in-github",
        "colab_type": "text"
      },
      "source": [
        "<a href=\"https://colab.research.google.com/github/Fitzpatrique/16-hotel-reviews/blob/master/Hotel_Review.ipynb\" target=\"_parent\"><img src=\"https://colab.research.google.com/assets/colab-badge.svg\" alt=\"Open In Colab\"/></a>"
      ]
    },
    {
      "cell_type": "code",
      "metadata": {
        "id": "9b71CW0o4ykV",
        "outputId": "86d3e79f-1a46-44be-9231-5ada748cce29",
        "colab": {
          "base_uri": "https://localhost:8080/",
          "height": 33
        }
      },
      "source": [
        "# Mount your Google drive folder on Colab\n",
        "from google.colab import drive\n",
        "drive.mount('/content/gdrive', force_remount=True)"
      ],
      "execution_count": null,
      "outputs": [
        {
          "output_type": "stream",
          "text": [
            "Mounted at /content/gdrive\n"
          ],
          "name": "stdout"
        }
      ]
    },
    {
      "cell_type": "code",
      "metadata": {
        "id": "PGnz_N4m6KZa"
      },
      "source": [
        "import numpy as np\n",
        "import pandas as pd\n",
        "import matplotlib.pyplot as plt"
      ],
      "execution_count": null,
      "outputs": []
    },
    {
      "cell_type": "code",
      "metadata": {
        "id": "bISomIRv6jBG"
      },
      "source": [
        "df = pd.read_csv(\"/content/gdrive/My Drive/Hotel_Reviews.csv\")"
      ],
      "execution_count": null,
      "outputs": []
    },
    {
      "cell_type": "code",
      "metadata": {
        "id": "zAAL5GA765K6",
        "outputId": "98db3cde-c282-4e80-9754-3ab0d2c6dad2",
        "colab": {
          "base_uri": "https://localhost:8080/",
          "height": 568
        }
      },
      "source": [
        "df.head()"
      ],
      "execution_count": null,
      "outputs": [
        {
          "output_type": "execute_result",
          "data": {
            "text/html": [
              "<div>\n",
              "<style scoped>\n",
              "    .dataframe tbody tr th:only-of-type {\n",
              "        vertical-align: middle;\n",
              "    }\n",
              "\n",
              "    .dataframe tbody tr th {\n",
              "        vertical-align: top;\n",
              "    }\n",
              "\n",
              "    .dataframe thead th {\n",
              "        text-align: right;\n",
              "    }\n",
              "</style>\n",
              "<table border=\"1\" class=\"dataframe\">\n",
              "  <thead>\n",
              "    <tr style=\"text-align: right;\">\n",
              "      <th></th>\n",
              "      <th>Hotel_Address</th>\n",
              "      <th>Additional_Number_of_Scoring</th>\n",
              "      <th>Review_Date</th>\n",
              "      <th>Average_Score</th>\n",
              "      <th>Hotel_Name</th>\n",
              "      <th>Reviewer_Nationality</th>\n",
              "      <th>Negative_Review</th>\n",
              "      <th>Review_Total_Negative_Word_Counts</th>\n",
              "      <th>Total_Number_of_Reviews</th>\n",
              "      <th>Positive_Review</th>\n",
              "      <th>Review_Total_Positive_Word_Counts</th>\n",
              "      <th>Total_Number_of_Reviews_Reviewer_Has_Given</th>\n",
              "      <th>Reviewer_Score</th>\n",
              "      <th>Tags</th>\n",
              "      <th>days_since_review</th>\n",
              "      <th>lat</th>\n",
              "      <th>lng</th>\n",
              "    </tr>\n",
              "  </thead>\n",
              "  <tbody>\n",
              "    <tr>\n",
              "      <th>0</th>\n",
              "      <td>s Gravesandestraat 55 Oost 1092 AA Amsterdam ...</td>\n",
              "      <td>194</td>\n",
              "      <td>8/3/2017</td>\n",
              "      <td>7.7</td>\n",
              "      <td>Hotel Arena</td>\n",
              "      <td>Russia</td>\n",
              "      <td>I am so angry that i made this post available...</td>\n",
              "      <td>397</td>\n",
              "      <td>1403</td>\n",
              "      <td>Only the park outside of the hotel was beauti...</td>\n",
              "      <td>11</td>\n",
              "      <td>7</td>\n",
              "      <td>2.9</td>\n",
              "      <td>[' Leisure trip ', ' Couple ', ' Duplex Double...</td>\n",
              "      <td>0 days</td>\n",
              "      <td>52.360576</td>\n",
              "      <td>4.915968</td>\n",
              "    </tr>\n",
              "    <tr>\n",
              "      <th>1</th>\n",
              "      <td>s Gravesandestraat 55 Oost 1092 AA Amsterdam ...</td>\n",
              "      <td>194</td>\n",
              "      <td>8/3/2017</td>\n",
              "      <td>7.7</td>\n",
              "      <td>Hotel Arena</td>\n",
              "      <td>Ireland</td>\n",
              "      <td>No Negative</td>\n",
              "      <td>0</td>\n",
              "      <td>1403</td>\n",
              "      <td>No real complaints the hotel was great great ...</td>\n",
              "      <td>105</td>\n",
              "      <td>7</td>\n",
              "      <td>7.5</td>\n",
              "      <td>[' Leisure trip ', ' Couple ', ' Duplex Double...</td>\n",
              "      <td>0 days</td>\n",
              "      <td>52.360576</td>\n",
              "      <td>4.915968</td>\n",
              "    </tr>\n",
              "    <tr>\n",
              "      <th>2</th>\n",
              "      <td>s Gravesandestraat 55 Oost 1092 AA Amsterdam ...</td>\n",
              "      <td>194</td>\n",
              "      <td>7/31/2017</td>\n",
              "      <td>7.7</td>\n",
              "      <td>Hotel Arena</td>\n",
              "      <td>Australia</td>\n",
              "      <td>Rooms are nice but for elderly a bit difficul...</td>\n",
              "      <td>42</td>\n",
              "      <td>1403</td>\n",
              "      <td>Location was good and staff were ok It is cut...</td>\n",
              "      <td>21</td>\n",
              "      <td>9</td>\n",
              "      <td>7.1</td>\n",
              "      <td>[' Leisure trip ', ' Family with young childre...</td>\n",
              "      <td>3 days</td>\n",
              "      <td>52.360576</td>\n",
              "      <td>4.915968</td>\n",
              "    </tr>\n",
              "    <tr>\n",
              "      <th>3</th>\n",
              "      <td>s Gravesandestraat 55 Oost 1092 AA Amsterdam ...</td>\n",
              "      <td>194</td>\n",
              "      <td>7/31/2017</td>\n",
              "      <td>7.7</td>\n",
              "      <td>Hotel Arena</td>\n",
              "      <td>United Kingdom</td>\n",
              "      <td>My room was dirty and I was afraid to walk ba...</td>\n",
              "      <td>210</td>\n",
              "      <td>1403</td>\n",
              "      <td>Great location in nice surroundings the bar a...</td>\n",
              "      <td>26</td>\n",
              "      <td>1</td>\n",
              "      <td>3.8</td>\n",
              "      <td>[' Leisure trip ', ' Solo traveler ', ' Duplex...</td>\n",
              "      <td>3 days</td>\n",
              "      <td>52.360576</td>\n",
              "      <td>4.915968</td>\n",
              "    </tr>\n",
              "    <tr>\n",
              "      <th>4</th>\n",
              "      <td>s Gravesandestraat 55 Oost 1092 AA Amsterdam ...</td>\n",
              "      <td>194</td>\n",
              "      <td>7/24/2017</td>\n",
              "      <td>7.7</td>\n",
              "      <td>Hotel Arena</td>\n",
              "      <td>New Zealand</td>\n",
              "      <td>You When I booked with your company on line y...</td>\n",
              "      <td>140</td>\n",
              "      <td>1403</td>\n",
              "      <td>Amazing location and building Romantic setting</td>\n",
              "      <td>8</td>\n",
              "      <td>3</td>\n",
              "      <td>6.7</td>\n",
              "      <td>[' Leisure trip ', ' Couple ', ' Suite ', ' St...</td>\n",
              "      <td>10 days</td>\n",
              "      <td>52.360576</td>\n",
              "      <td>4.915968</td>\n",
              "    </tr>\n",
              "  </tbody>\n",
              "</table>\n",
              "</div>"
            ],
            "text/plain": [
              "                                       Hotel_Address  ...       lng\n",
              "0   s Gravesandestraat 55 Oost 1092 AA Amsterdam ...  ...  4.915968\n",
              "1   s Gravesandestraat 55 Oost 1092 AA Amsterdam ...  ...  4.915968\n",
              "2   s Gravesandestraat 55 Oost 1092 AA Amsterdam ...  ...  4.915968\n",
              "3   s Gravesandestraat 55 Oost 1092 AA Amsterdam ...  ...  4.915968\n",
              "4   s Gravesandestraat 55 Oost 1092 AA Amsterdam ...  ...  4.915968\n",
              "\n",
              "[5 rows x 17 columns]"
            ]
          },
          "metadata": {
            "tags": []
          },
          "execution_count": 4
        }
      ]
    },
    {
      "cell_type": "code",
      "metadata": {
        "id": "KtFXtge27LqH",
        "outputId": "79a50d65-517c-4f18-e338-a01773ba0a20",
        "colab": {
          "base_uri": "https://localhost:8080/",
          "height": 407
        }
      },
      "source": [
        "df.info()"
      ],
      "execution_count": null,
      "outputs": [
        {
          "output_type": "stream",
          "text": [
            "<class 'pandas.core.frame.DataFrame'>\n",
            "RangeIndex: 515738 entries, 0 to 515737\n",
            "Data columns (total 17 columns):\n",
            " #   Column                                      Non-Null Count   Dtype  \n",
            "---  ------                                      --------------   -----  \n",
            " 0   Hotel_Address                               515738 non-null  object \n",
            " 1   Additional_Number_of_Scoring                515738 non-null  int64  \n",
            " 2   Review_Date                                 515738 non-null  object \n",
            " 3   Average_Score                               515738 non-null  float64\n",
            " 4   Hotel_Name                                  515738 non-null  object \n",
            " 5   Reviewer_Nationality                        515738 non-null  object \n",
            " 6   Negative_Review                             515738 non-null  object \n",
            " 7   Review_Total_Negative_Word_Counts           515738 non-null  int64  \n",
            " 8   Total_Number_of_Reviews                     515738 non-null  int64  \n",
            " 9   Positive_Review                             515738 non-null  object \n",
            " 10  Review_Total_Positive_Word_Counts           515738 non-null  int64  \n",
            " 11  Total_Number_of_Reviews_Reviewer_Has_Given  515738 non-null  int64  \n",
            " 12  Reviewer_Score                              515738 non-null  float64\n",
            " 13  Tags                                        515738 non-null  object \n",
            " 14  days_since_review                           515738 non-null  object \n",
            " 15  lat                                         512470 non-null  float64\n",
            " 16  lng                                         512470 non-null  float64\n",
            "dtypes: float64(4), int64(5), object(8)\n",
            "memory usage: 66.9+ MB\n"
          ],
          "name": "stdout"
        }
      ]
    },
    {
      "cell_type": "code",
      "metadata": {
        "id": "uwG5CYWD7Vvx",
        "outputId": "2d842b3e-2687-4e13-e4c7-37a86714711a",
        "colab": {
          "base_uri": "https://localhost:8080/",
          "height": 147
        }
      },
      "source": [
        "df.columns"
      ],
      "execution_count": null,
      "outputs": [
        {
          "output_type": "execute_result",
          "data": {
            "text/plain": [
              "Index(['Hotel_Address', 'Additional_Number_of_Scoring', 'Review_Date',\n",
              "       'Average_Score', 'Hotel_Name', 'Reviewer_Nationality',\n",
              "       'Negative_Review', 'Review_Total_Negative_Word_Counts',\n",
              "       'Total_Number_of_Reviews', 'Positive_Review',\n",
              "       'Review_Total_Positive_Word_Counts',\n",
              "       'Total_Number_of_Reviews_Reviewer_Has_Given', 'Reviewer_Score', 'Tags',\n",
              "       'days_since_review', 'lat', 'lng'],\n",
              "      dtype='object')"
            ]
          },
          "metadata": {
            "tags": []
          },
          "execution_count": 6
        }
      ]
    },
    {
      "cell_type": "code",
      "metadata": {
        "id": "8hJIwQcX7bh0",
        "outputId": "6dab15d9-aa92-4ff3-9231-73d6174dd056",
        "colab": {
          "base_uri": "https://localhost:8080/",
          "height": 33
        }
      },
      "source": [
        "df['lat'].nunique()"
      ],
      "execution_count": null,
      "outputs": [
        {
          "output_type": "execute_result",
          "data": {
            "text/plain": [
              "1472"
            ]
          },
          "metadata": {
            "tags": []
          },
          "execution_count": 7
        }
      ]
    },
    {
      "cell_type": "code",
      "metadata": {
        "id": "G5kYZM6M3OIY",
        "outputId": "20611279-9dd4-4e66-d991-ce8dad085b76",
        "colab": {
          "base_uri": "https://localhost:8080/",
          "height": 98
        }
      },
      "source": [
        "for i in range(351449,352107):\n",
        "  df['lat'].iloc[i] = 48.2094\n",
        "for i in range(465289,465852):\n",
        "  df['lat'].iloc[i] = 16.5127\n",
        "for i in range(500179,500568):\n",
        "  df['lat'].iloc[i] = 48.2100\n",
        "for i in range(177657,177947):\n",
        "  df['lat'].iloc[i] = 48.8753\n",
        "for i in range(365418,365663):\n",
        "  df['lat'].iloc[i] = 48.1888\n",
        "for i in range(499956,500179):\n",
        "  df['lat'].iloc[i] = 48.2168\n",
        "for i in range(440791,440985):\n",
        "  df['lat'].iloc[i] = 48.2196\n",
        "for i in range(449450,449597):\n",
        "  df['lat'].iloc[i] = 48.2460\n",
        "for i in range(282265,282411):\n",
        "  df['lat'].iloc[i] = 41.3916\n",
        "for i in range(327680,327773):\n",
        "  df['lat'].iloc[i] = 48.2209\n",
        "for i in range(338919,338980):\n",
        "  df['lat'].iloc[i] = 19.4147\n",
        "for i in range(352107,352164):\n",
        "  df['lat'].iloc[i] = 48.2095\n",
        "for i in range(116738,116793):\n",
        "  df['lat'].iloc[i] = 48.8889\n",
        "for i in range(395735,395784):\n",
        "  df['lat'].iloc[i] = 48.1868\n",
        "for i in range(99488,99525):\n",
        "  df['lat'].iloc[i] = 48.8400\n",
        "for i in range(401983,402016):\n",
        "  df['lat'].iloc[i] = 41.3927\n",
        "for i in range(449422,449450):\n",
        "  df['lat'].iloc[i] = 41.3833"
      ],
      "execution_count": null,
      "outputs": [
        {
          "output_type": "stream",
          "text": [
            "/usr/local/lib/python3.6/dist-packages/pandas/core/indexing.py:671: SettingWithCopyWarning: \n",
            "A value is trying to be set on a copy of a slice from a DataFrame\n",
            "\n",
            "See the caveats in the documentation: https://pandas.pydata.org/pandas-docs/stable/user_guide/indexing.html#returning-a-view-versus-a-copy\n",
            "  self._setitem_with_indexer(indexer, value)\n"
          ],
          "name": "stderr"
        }
      ]
    },
    {
      "cell_type": "code",
      "metadata": {
        "id": "i0lQAtYbaoSr",
        "outputId": "a5408857-e798-4a1d-b648-35331e4f8124",
        "colab": {
          "base_uri": "https://localhost:8080/",
          "height": 98
        }
      },
      "source": [
        "for i in range(351449,352107):\n",
        "  df['lng'].iloc[i] = 16.3534\n",
        "for i in range(465289,465852):\n",
        "  df['lng'].iloc[i] = 80.6260\n",
        "for i in range(500179,500568):\n",
        "  df['lng'].iloc[i] = 16.3634\n",
        "for i in range(177657,177947):\n",
        "  df['lng'].iloc[i] = 2.3234\n",
        "for i in range(365418,365663):\n",
        "  df['lng'].iloc[i] = 16.3838\n",
        "for i in range(499956,500179):\n",
        "  df['lng'].iloc[i] = 16.3599\n",
        "for i in range(440791,440985):\n",
        "  df['lng'].iloc[i] = 16.2855\n",
        "for i in range(449450,449597):\n",
        "  df['lng'].iloc[i] = 16.3412\n",
        "for i in range(282265,282411):\n",
        "  df['lng'].iloc[i] = 2.1779\n",
        "for i in range(327680,327773):\n",
        "  df['lng'].iloc[i] = 16.3666\n",
        "for i in range(338919,338980):\n",
        "  df['lng'].iloc[i] = 99.1846\n",
        "for i in range(352107,352164):\n",
        "  df['lng'].iloc[i] = 16.3515\n",
        "for i in range(116738,116793):\n",
        "  df['lng'].iloc[i] = 2.3331\n",
        "for i in range(395735,395784):\n",
        "  df['lng'].iloc[i] = 16.4207\n",
        "for i in range(99488,99525):\n",
        "  df['lng'].iloc[i] = 2.3236\n",
        "for i in range(401983,402016):\n",
        "  df['lng'].iloc[i] = 2.1674\n",
        "for i in range(449422,449450):\n",
        "  df['lng'].iloc[i] = 2.1628"
      ],
      "execution_count": null,
      "outputs": [
        {
          "output_type": "stream",
          "text": [
            "/usr/local/lib/python3.6/dist-packages/pandas/core/indexing.py:671: SettingWithCopyWarning: \n",
            "A value is trying to be set on a copy of a slice from a DataFrame\n",
            "\n",
            "See the caveats in the documentation: https://pandas.pydata.org/pandas-docs/stable/user_guide/indexing.html#returning-a-view-versus-a-copy\n",
            "  self._setitem_with_indexer(indexer, value)\n"
          ],
          "name": "stderr"
        }
      ]
    },
    {
      "cell_type": "code",
      "metadata": {
        "id": "4-Rd5ms9O9bX",
        "outputId": "fac28b19-7de6-40fa-d9a1-51fa1b8e4644",
        "colab": {
          "base_uri": "https://localhost:8080/",
          "height": 407
        }
      },
      "source": [
        "df.info()"
      ],
      "execution_count": null,
      "outputs": [
        {
          "output_type": "stream",
          "text": [
            "<class 'pandas.core.frame.DataFrame'>\n",
            "RangeIndex: 515738 entries, 0 to 515737\n",
            "Data columns (total 17 columns):\n",
            " #   Column                                      Non-Null Count   Dtype  \n",
            "---  ------                                      --------------   -----  \n",
            " 0   Hotel_Address                               515738 non-null  object \n",
            " 1   Additional_Number_of_Scoring                515738 non-null  int64  \n",
            " 2   Review_Date                                 515738 non-null  object \n",
            " 3   Average_Score                               515738 non-null  float64\n",
            " 4   Hotel_Name                                  515738 non-null  object \n",
            " 5   Reviewer_Nationality                        515738 non-null  object \n",
            " 6   Negative_Review                             515738 non-null  object \n",
            " 7   Review_Total_Negative_Word_Counts           515738 non-null  int64  \n",
            " 8   Total_Number_of_Reviews                     515738 non-null  int64  \n",
            " 9   Positive_Review                             515738 non-null  object \n",
            " 10  Review_Total_Positive_Word_Counts           515738 non-null  int64  \n",
            " 11  Total_Number_of_Reviews_Reviewer_Has_Given  515738 non-null  int64  \n",
            " 12  Reviewer_Score                              515738 non-null  float64\n",
            " 13  Tags                                        515738 non-null  object \n",
            " 14  days_since_review                           515738 non-null  object \n",
            " 15  lat                                         515738 non-null  float64\n",
            " 16  lng                                         515738 non-null  float64\n",
            "dtypes: float64(4), int64(5), object(8)\n",
            "memory usage: 66.9+ MB\n"
          ],
          "name": "stdout"
        }
      ]
    },
    {
      "cell_type": "code",
      "metadata": {
        "id": "0syDJNI0H8Ln",
        "outputId": "a6e0cedc-63bc-42d1-bcb6-d2fb3bfa1920",
        "colab": {
          "base_uri": "https://localhost:8080/",
          "height": 326
        }
      },
      "source": [
        "df.corr()"
      ],
      "execution_count": null,
      "outputs": [
        {
          "output_type": "execute_result",
          "data": {
            "text/html": [
              "<div>\n",
              "<style scoped>\n",
              "    .dataframe tbody tr th:only-of-type {\n",
              "        vertical-align: middle;\n",
              "    }\n",
              "\n",
              "    .dataframe tbody tr th {\n",
              "        vertical-align: top;\n",
              "    }\n",
              "\n",
              "    .dataframe thead th {\n",
              "        text-align: right;\n",
              "    }\n",
              "</style>\n",
              "<table border=\"1\" class=\"dataframe\">\n",
              "  <thead>\n",
              "    <tr style=\"text-align: right;\">\n",
              "      <th></th>\n",
              "      <th>Additional_Number_of_Scoring</th>\n",
              "      <th>Average_Score</th>\n",
              "      <th>Review_Total_Negative_Word_Counts</th>\n",
              "      <th>Total_Number_of_Reviews</th>\n",
              "      <th>Review_Total_Positive_Word_Counts</th>\n",
              "      <th>Total_Number_of_Reviews_Reviewer_Has_Given</th>\n",
              "      <th>Reviewer_Score</th>\n",
              "      <th>lat</th>\n",
              "      <th>lng</th>\n",
              "    </tr>\n",
              "  </thead>\n",
              "  <tbody>\n",
              "    <tr>\n",
              "      <th>Additional_Number_of_Scoring</th>\n",
              "      <td>1.000000</td>\n",
              "      <td>-0.152846</td>\n",
              "      <td>0.029195</td>\n",
              "      <td>0.824884</td>\n",
              "      <td>-0.053087</td>\n",
              "      <td>-0.071969</td>\n",
              "      <td>-0.061554</td>\n",
              "      <td>0.326878</td>\n",
              "      <td>-0.266189</td>\n",
              "    </tr>\n",
              "    <tr>\n",
              "      <th>Average_Score</th>\n",
              "      <td>-0.152846</td>\n",
              "      <td>1.000000</td>\n",
              "      <td>-0.112323</td>\n",
              "      <td>-0.179568</td>\n",
              "      <td>0.106719</td>\n",
              "      <td>0.036454</td>\n",
              "      <td>0.364351</td>\n",
              "      <td>-0.106788</td>\n",
              "      <td>0.091630</td>\n",
              "    </tr>\n",
              "    <tr>\n",
              "      <th>Review_Total_Negative_Word_Counts</th>\n",
              "      <td>0.029195</td>\n",
              "      <td>-0.112323</td>\n",
              "      <td>1.000000</td>\n",
              "      <td>0.035124</td>\n",
              "      <td>0.119613</td>\n",
              "      <td>0.003199</td>\n",
              "      <td>-0.382474</td>\n",
              "      <td>0.020388</td>\n",
              "      <td>-0.019908</td>\n",
              "    </tr>\n",
              "    <tr>\n",
              "      <th>Total_Number_of_Reviews</th>\n",
              "      <td>0.824884</td>\n",
              "      <td>-0.179568</td>\n",
              "      <td>0.035124</td>\n",
              "      <td>1.000000</td>\n",
              "      <td>-0.030132</td>\n",
              "      <td>-0.024910</td>\n",
              "      <td>-0.072865</td>\n",
              "      <td>0.096360</td>\n",
              "      <td>-0.014464</td>\n",
              "    </tr>\n",
              "    <tr>\n",
              "      <th>Review_Total_Positive_Word_Counts</th>\n",
              "      <td>-0.053087</td>\n",
              "      <td>0.106719</td>\n",
              "      <td>0.119613</td>\n",
              "      <td>-0.030132</td>\n",
              "      <td>1.000000</td>\n",
              "      <td>0.026535</td>\n",
              "      <td>0.220800</td>\n",
              "      <td>-0.037635</td>\n",
              "      <td>0.033338</td>\n",
              "    </tr>\n",
              "    <tr>\n",
              "      <th>Total_Number_of_Reviews_Reviewer_Has_Given</th>\n",
              "      <td>-0.071969</td>\n",
              "      <td>0.036454</td>\n",
              "      <td>0.003199</td>\n",
              "      <td>-0.024910</td>\n",
              "      <td>0.026535</td>\n",
              "      <td>1.000000</td>\n",
              "      <td>0.002873</td>\n",
              "      <td>-0.059143</td>\n",
              "      <td>0.100153</td>\n",
              "    </tr>\n",
              "    <tr>\n",
              "      <th>Reviewer_Score</th>\n",
              "      <td>-0.061554</td>\n",
              "      <td>0.364351</td>\n",
              "      <td>-0.382474</td>\n",
              "      <td>-0.072865</td>\n",
              "      <td>0.220800</td>\n",
              "      <td>0.002873</td>\n",
              "      <td>1.000000</td>\n",
              "      <td>-0.036552</td>\n",
              "      <td>0.030302</td>\n",
              "    </tr>\n",
              "    <tr>\n",
              "      <th>lat</th>\n",
              "      <td>0.326878</td>\n",
              "      <td>-0.106788</td>\n",
              "      <td>0.020388</td>\n",
              "      <td>0.096360</td>\n",
              "      <td>-0.037635</td>\n",
              "      <td>-0.059143</td>\n",
              "      <td>-0.036552</td>\n",
              "      <td>1.000000</td>\n",
              "      <td>-0.406167</td>\n",
              "    </tr>\n",
              "    <tr>\n",
              "      <th>lng</th>\n",
              "      <td>-0.266189</td>\n",
              "      <td>0.091630</td>\n",
              "      <td>-0.019908</td>\n",
              "      <td>-0.014464</td>\n",
              "      <td>0.033338</td>\n",
              "      <td>0.100153</td>\n",
              "      <td>0.030302</td>\n",
              "      <td>-0.406167</td>\n",
              "      <td>1.000000</td>\n",
              "    </tr>\n",
              "  </tbody>\n",
              "</table>\n",
              "</div>"
            ],
            "text/plain": [
              "                                            Additional_Number_of_Scoring  ...       lng\n",
              "Additional_Number_of_Scoring                                    1.000000  ... -0.266189\n",
              "Average_Score                                                  -0.152846  ...  0.091630\n",
              "Review_Total_Negative_Word_Counts                               0.029195  ... -0.019908\n",
              "Total_Number_of_Reviews                                         0.824884  ... -0.014464\n",
              "Review_Total_Positive_Word_Counts                              -0.053087  ...  0.033338\n",
              "Total_Number_of_Reviews_Reviewer_Has_Given                     -0.071969  ...  0.100153\n",
              "Reviewer_Score                                                 -0.061554  ...  0.030302\n",
              "lat                                                             0.326878  ... -0.406167\n",
              "lng                                                            -0.266189  ...  1.000000\n",
              "\n",
              "[9 rows x 9 columns]"
            ]
          },
          "metadata": {
            "tags": []
          },
          "execution_count": 11
        }
      ]
    },
    {
      "cell_type": "code",
      "metadata": {
        "id": "tmGgayrtPNl0"
      },
      "source": [
        "new_df = df.copy()"
      ],
      "execution_count": null,
      "outputs": []
    },
    {
      "cell_type": "code",
      "metadata": {
        "id": "GJg4KP1FmKYJ"
      },
      "source": [
        "#new_df.head(5)"
      ],
      "execution_count": null,
      "outputs": []
    },
    {
      "cell_type": "code",
      "metadata": {
        "id": "3AuhB9yPmNUZ"
      },
      "source": [
        "new_df.set_index('Hotel_Name', inplace=True)"
      ],
      "execution_count": null,
      "outputs": []
    },
    {
      "cell_type": "code",
      "metadata": {
        "id": "Pkjn6hfTp9_t"
      },
      "source": [
        "#new_df.head()"
      ],
      "execution_count": null,
      "outputs": []
    },
    {
      "cell_type": "code",
      "metadata": {
        "id": "tVrzTASZqTB_"
      },
      "source": [
        "new_df.drop(columns='Hotel_Address', inplace=True,axis=1)"
      ],
      "execution_count": null,
      "outputs": []
    },
    {
      "cell_type": "code",
      "metadata": {
        "id": "xN7vmHtXrF4h"
      },
      "source": [
        "#new_df.head()"
      ],
      "execution_count": null,
      "outputs": []
    },
    {
      "cell_type": "code",
      "metadata": {
        "id": "tT1xmuc8L_M8",
        "outputId": "07615678-6f97-458a-c271-503c2708f1cd",
        "colab": {
          "base_uri": "https://localhost:8080/",
          "height": 33
        }
      },
      "source": [
        "new_df['Reviewer_Nationality'].nunique()"
      ],
      "execution_count": null,
      "outputs": [
        {
          "output_type": "execute_result",
          "data": {
            "text/plain": [
              "227"
            ]
          },
          "metadata": {
            "tags": []
          },
          "execution_count": 18
        }
      ]
    },
    {
      "cell_type": "code",
      "metadata": {
        "id": "jvexpPRejnR3"
      },
      "source": [
        "new_df.drop(columns='Positive_Review', inplace=True,axis=1)\n",
        "new_df.drop(columns='Negative_Review', inplace=True,axis=1)"
      ],
      "execution_count": null,
      "outputs": []
    },
    {
      "cell_type": "code",
      "metadata": {
        "id": "dsBa-u_Skf2G",
        "outputId": "f1316464-2981-4afa-bdc7-1561eef947ce",
        "colab": {
          "base_uri": "https://localhost:8080/",
          "height": 1000
        }
      },
      "source": [
        "new_df.tail(10)"
      ],
      "execution_count": null,
      "outputs": [
        {
          "output_type": "execute_result",
          "data": {
            "text/html": [
              "<div>\n",
              "<style scoped>\n",
              "    .dataframe tbody tr th:only-of-type {\n",
              "        vertical-align: middle;\n",
              "    }\n",
              "\n",
              "    .dataframe tbody tr th {\n",
              "        vertical-align: top;\n",
              "    }\n",
              "\n",
              "    .dataframe thead th {\n",
              "        text-align: right;\n",
              "    }\n",
              "</style>\n",
              "<table border=\"1\" class=\"dataframe\">\n",
              "  <thead>\n",
              "    <tr style=\"text-align: right;\">\n",
              "      <th></th>\n",
              "      <th>Additional_Number_of_Scoring</th>\n",
              "      <th>Review_Date</th>\n",
              "      <th>Average_Score</th>\n",
              "      <th>Reviewer_Nationality</th>\n",
              "      <th>Review_Total_Negative_Word_Counts</th>\n",
              "      <th>Total_Number_of_Reviews</th>\n",
              "      <th>Review_Total_Positive_Word_Counts</th>\n",
              "      <th>Total_Number_of_Reviews_Reviewer_Has_Given</th>\n",
              "      <th>Reviewer_Score</th>\n",
              "      <th>Tags</th>\n",
              "      <th>days_since_review</th>\n",
              "      <th>lat</th>\n",
              "      <th>lng</th>\n",
              "    </tr>\n",
              "    <tr>\n",
              "      <th>Hotel_Name</th>\n",
              "      <th></th>\n",
              "      <th></th>\n",
              "      <th></th>\n",
              "      <th></th>\n",
              "      <th></th>\n",
              "      <th></th>\n",
              "      <th></th>\n",
              "      <th></th>\n",
              "      <th></th>\n",
              "      <th></th>\n",
              "      <th></th>\n",
              "      <th></th>\n",
              "      <th></th>\n",
              "    </tr>\n",
              "  </thead>\n",
              "  <tbody>\n",
              "    <tr>\n",
              "      <th>Atlantis Hotel Vienna</th>\n",
              "      <td>168</td>\n",
              "      <td>9/27/2015</td>\n",
              "      <td>8.1</td>\n",
              "      <td>Qatar</td>\n",
              "      <td>2</td>\n",
              "      <td>2823</td>\n",
              "      <td>2</td>\n",
              "      <td>1</td>\n",
              "      <td>4.2</td>\n",
              "      <td>[' Leisure trip ', ' Couple ', ' Standard Doub...</td>\n",
              "      <td>676 day</td>\n",
              "      <td>48.203745</td>\n",
              "      <td>16.335677</td>\n",
              "    </tr>\n",
              "    <tr>\n",
              "      <th>Atlantis Hotel Vienna</th>\n",
              "      <td>168</td>\n",
              "      <td>9/26/2015</td>\n",
              "      <td>8.1</td>\n",
              "      <td>Brazil</td>\n",
              "      <td>0</td>\n",
              "      <td>2823</td>\n",
              "      <td>27</td>\n",
              "      <td>7</td>\n",
              "      <td>10.0</td>\n",
              "      <td>[' Leisure trip ', ' Couple ', ' Standard Doub...</td>\n",
              "      <td>677 day</td>\n",
              "      <td>48.203745</td>\n",
              "      <td>16.335677</td>\n",
              "    </tr>\n",
              "    <tr>\n",
              "      <th>Atlantis Hotel Vienna</th>\n",
              "      <td>168</td>\n",
              "      <td>9/20/2015</td>\n",
              "      <td>8.1</td>\n",
              "      <td>Israel</td>\n",
              "      <td>20</td>\n",
              "      <td>2823</td>\n",
              "      <td>3</td>\n",
              "      <td>2</td>\n",
              "      <td>6.7</td>\n",
              "      <td>[' Leisure trip ', ' Family with young childre...</td>\n",
              "      <td>683 day</td>\n",
              "      <td>48.203745</td>\n",
              "      <td>16.335677</td>\n",
              "    </tr>\n",
              "    <tr>\n",
              "      <th>Atlantis Hotel Vienna</th>\n",
              "      <td>168</td>\n",
              "      <td>9/7/2015</td>\n",
              "      <td>8.1</td>\n",
              "      <td>Germany</td>\n",
              "      <td>12</td>\n",
              "      <td>2823</td>\n",
              "      <td>3</td>\n",
              "      <td>1</td>\n",
              "      <td>7.5</td>\n",
              "      <td>[' Business trip ', ' Solo traveler ', ' Stand...</td>\n",
              "      <td>696 day</td>\n",
              "      <td>48.203745</td>\n",
              "      <td>16.335677</td>\n",
              "    </tr>\n",
              "    <tr>\n",
              "      <th>Atlantis Hotel Vienna</th>\n",
              "      <td>168</td>\n",
              "      <td>9/6/2015</td>\n",
              "      <td>8.1</td>\n",
              "      <td>Kuwait</td>\n",
              "      <td>0</td>\n",
              "      <td>2823</td>\n",
              "      <td>18</td>\n",
              "      <td>6</td>\n",
              "      <td>10.0</td>\n",
              "      <td>[' Leisure trip ', ' Family with young childre...</td>\n",
              "      <td>697 day</td>\n",
              "      <td>48.203745</td>\n",
              "      <td>16.335677</td>\n",
              "    </tr>\n",
              "    <tr>\n",
              "      <th>Atlantis Hotel Vienna</th>\n",
              "      <td>168</td>\n",
              "      <td>8/30/2015</td>\n",
              "      <td>8.1</td>\n",
              "      <td>Kuwait</td>\n",
              "      <td>14</td>\n",
              "      <td>2823</td>\n",
              "      <td>2</td>\n",
              "      <td>8</td>\n",
              "      <td>7.0</td>\n",
              "      <td>[' Leisure trip ', ' Family with older childre...</td>\n",
              "      <td>704 day</td>\n",
              "      <td>48.203745</td>\n",
              "      <td>16.335677</td>\n",
              "    </tr>\n",
              "    <tr>\n",
              "      <th>Atlantis Hotel Vienna</th>\n",
              "      <td>168</td>\n",
              "      <td>8/22/2015</td>\n",
              "      <td>8.1</td>\n",
              "      <td>Estonia</td>\n",
              "      <td>11</td>\n",
              "      <td>2823</td>\n",
              "      <td>11</td>\n",
              "      <td>12</td>\n",
              "      <td>5.8</td>\n",
              "      <td>[' Leisure trip ', ' Family with young childre...</td>\n",
              "      <td>712 day</td>\n",
              "      <td>48.203745</td>\n",
              "      <td>16.335677</td>\n",
              "    </tr>\n",
              "    <tr>\n",
              "      <th>Atlantis Hotel Vienna</th>\n",
              "      <td>168</td>\n",
              "      <td>8/19/2015</td>\n",
              "      <td>8.1</td>\n",
              "      <td>Egypt</td>\n",
              "      <td>19</td>\n",
              "      <td>2823</td>\n",
              "      <td>0</td>\n",
              "      <td>3</td>\n",
              "      <td>2.5</td>\n",
              "      <td>[' Leisure trip ', ' Family with older childre...</td>\n",
              "      <td>715 day</td>\n",
              "      <td>48.203745</td>\n",
              "      <td>16.335677</td>\n",
              "    </tr>\n",
              "    <tr>\n",
              "      <th>Atlantis Hotel Vienna</th>\n",
              "      <td>168</td>\n",
              "      <td>8/17/2015</td>\n",
              "      <td>8.1</td>\n",
              "      <td>Mexico</td>\n",
              "      <td>0</td>\n",
              "      <td>2823</td>\n",
              "      <td>25</td>\n",
              "      <td>3</td>\n",
              "      <td>8.8</td>\n",
              "      <td>[' Leisure trip ', ' Group ', ' Standard Tripl...</td>\n",
              "      <td>717 day</td>\n",
              "      <td>48.203745</td>\n",
              "      <td>16.335677</td>\n",
              "    </tr>\n",
              "    <tr>\n",
              "      <th>Atlantis Hotel Vienna</th>\n",
              "      <td>168</td>\n",
              "      <td>8/9/2015</td>\n",
              "      <td>8.1</td>\n",
              "      <td>Hungary</td>\n",
              "      <td>13</td>\n",
              "      <td>2823</td>\n",
              "      <td>6</td>\n",
              "      <td>1</td>\n",
              "      <td>8.3</td>\n",
              "      <td>[' Leisure trip ', ' Family with young childre...</td>\n",
              "      <td>725 day</td>\n",
              "      <td>48.203745</td>\n",
              "      <td>16.335677</td>\n",
              "    </tr>\n",
              "  </tbody>\n",
              "</table>\n",
              "</div>"
            ],
            "text/plain": [
              "                       Additional_Number_of_Scoring  ...        lng\n",
              "Hotel_Name                                           ...           \n",
              "Atlantis Hotel Vienna                           168  ...  16.335677\n",
              "Atlantis Hotel Vienna                           168  ...  16.335677\n",
              "Atlantis Hotel Vienna                           168  ...  16.335677\n",
              "Atlantis Hotel Vienna                           168  ...  16.335677\n",
              "Atlantis Hotel Vienna                           168  ...  16.335677\n",
              "Atlantis Hotel Vienna                           168  ...  16.335677\n",
              "Atlantis Hotel Vienna                           168  ...  16.335677\n",
              "Atlantis Hotel Vienna                           168  ...  16.335677\n",
              "Atlantis Hotel Vienna                           168  ...  16.335677\n",
              "Atlantis Hotel Vienna                           168  ...  16.335677\n",
              "\n",
              "[10 rows x 13 columns]"
            ]
          },
          "metadata": {
            "tags": []
          },
          "execution_count": 20
        }
      ]
    },
    {
      "cell_type": "code",
      "metadata": {
        "id": "6OyPPp4qklq8"
      },
      "source": [
        "def add_month(month):\n",
        "  if month[1] == '/':\n",
        "    return month[0]\n",
        "  else:\n",
        "    return int(month[0:1])\n",
        "\n",
        "def add_year(year):\n",
        "  return int(year[-4:])"
      ],
      "execution_count": null,
      "outputs": []
    },
    {
      "cell_type": "code",
      "metadata": {
        "id": "7c664P3qq1QD"
      },
      "source": [
        "new_df['Review_Month'] = new_df['Review_Date'].apply(add_month)\n",
        "new_df['Review_Year'] = new_df['Review_Date'].apply(add_year)"
      ],
      "execution_count": null,
      "outputs": []
    },
    {
      "cell_type": "code",
      "metadata": {
        "id": "0hlE_9xUrHFQ",
        "outputId": "abb9747f-baa6-4b69-c36a-113ff12cff15",
        "colab": {
          "base_uri": "https://localhost:8080/",
          "height": 1000
        }
      },
      "source": [
        "new_df.drop('Review_Date', axis=1,inplace=True)\n",
        "new_df.head(10)"
      ],
      "execution_count": null,
      "outputs": [
        {
          "output_type": "execute_result",
          "data": {
            "text/html": [
              "<div>\n",
              "<style scoped>\n",
              "    .dataframe tbody tr th:only-of-type {\n",
              "        vertical-align: middle;\n",
              "    }\n",
              "\n",
              "    .dataframe tbody tr th {\n",
              "        vertical-align: top;\n",
              "    }\n",
              "\n",
              "    .dataframe thead th {\n",
              "        text-align: right;\n",
              "    }\n",
              "</style>\n",
              "<table border=\"1\" class=\"dataframe\">\n",
              "  <thead>\n",
              "    <tr style=\"text-align: right;\">\n",
              "      <th></th>\n",
              "      <th>Additional_Number_of_Scoring</th>\n",
              "      <th>Average_Score</th>\n",
              "      <th>Reviewer_Nationality</th>\n",
              "      <th>Review_Total_Negative_Word_Counts</th>\n",
              "      <th>Total_Number_of_Reviews</th>\n",
              "      <th>Review_Total_Positive_Word_Counts</th>\n",
              "      <th>Total_Number_of_Reviews_Reviewer_Has_Given</th>\n",
              "      <th>Reviewer_Score</th>\n",
              "      <th>Tags</th>\n",
              "      <th>days_since_review</th>\n",
              "      <th>lat</th>\n",
              "      <th>lng</th>\n",
              "      <th>Review_Month</th>\n",
              "      <th>Review_Year</th>\n",
              "    </tr>\n",
              "    <tr>\n",
              "      <th>Hotel_Name</th>\n",
              "      <th></th>\n",
              "      <th></th>\n",
              "      <th></th>\n",
              "      <th></th>\n",
              "      <th></th>\n",
              "      <th></th>\n",
              "      <th></th>\n",
              "      <th></th>\n",
              "      <th></th>\n",
              "      <th></th>\n",
              "      <th></th>\n",
              "      <th></th>\n",
              "      <th></th>\n",
              "      <th></th>\n",
              "    </tr>\n",
              "  </thead>\n",
              "  <tbody>\n",
              "    <tr>\n",
              "      <th>Hotel Arena</th>\n",
              "      <td>194</td>\n",
              "      <td>7.7</td>\n",
              "      <td>Russia</td>\n",
              "      <td>397</td>\n",
              "      <td>1403</td>\n",
              "      <td>11</td>\n",
              "      <td>7</td>\n",
              "      <td>2.9</td>\n",
              "      <td>[' Leisure trip ', ' Couple ', ' Duplex Double...</td>\n",
              "      <td>0 days</td>\n",
              "      <td>52.360576</td>\n",
              "      <td>4.915968</td>\n",
              "      <td>8</td>\n",
              "      <td>2017</td>\n",
              "    </tr>\n",
              "    <tr>\n",
              "      <th>Hotel Arena</th>\n",
              "      <td>194</td>\n",
              "      <td>7.7</td>\n",
              "      <td>Ireland</td>\n",
              "      <td>0</td>\n",
              "      <td>1403</td>\n",
              "      <td>105</td>\n",
              "      <td>7</td>\n",
              "      <td>7.5</td>\n",
              "      <td>[' Leisure trip ', ' Couple ', ' Duplex Double...</td>\n",
              "      <td>0 days</td>\n",
              "      <td>52.360576</td>\n",
              "      <td>4.915968</td>\n",
              "      <td>8</td>\n",
              "      <td>2017</td>\n",
              "    </tr>\n",
              "    <tr>\n",
              "      <th>Hotel Arena</th>\n",
              "      <td>194</td>\n",
              "      <td>7.7</td>\n",
              "      <td>Australia</td>\n",
              "      <td>42</td>\n",
              "      <td>1403</td>\n",
              "      <td>21</td>\n",
              "      <td>9</td>\n",
              "      <td>7.1</td>\n",
              "      <td>[' Leisure trip ', ' Family with young childre...</td>\n",
              "      <td>3 days</td>\n",
              "      <td>52.360576</td>\n",
              "      <td>4.915968</td>\n",
              "      <td>7</td>\n",
              "      <td>2017</td>\n",
              "    </tr>\n",
              "    <tr>\n",
              "      <th>Hotel Arena</th>\n",
              "      <td>194</td>\n",
              "      <td>7.7</td>\n",
              "      <td>United Kingdom</td>\n",
              "      <td>210</td>\n",
              "      <td>1403</td>\n",
              "      <td>26</td>\n",
              "      <td>1</td>\n",
              "      <td>3.8</td>\n",
              "      <td>[' Leisure trip ', ' Solo traveler ', ' Duplex...</td>\n",
              "      <td>3 days</td>\n",
              "      <td>52.360576</td>\n",
              "      <td>4.915968</td>\n",
              "      <td>7</td>\n",
              "      <td>2017</td>\n",
              "    </tr>\n",
              "    <tr>\n",
              "      <th>Hotel Arena</th>\n",
              "      <td>194</td>\n",
              "      <td>7.7</td>\n",
              "      <td>New Zealand</td>\n",
              "      <td>140</td>\n",
              "      <td>1403</td>\n",
              "      <td>8</td>\n",
              "      <td>3</td>\n",
              "      <td>6.7</td>\n",
              "      <td>[' Leisure trip ', ' Couple ', ' Suite ', ' St...</td>\n",
              "      <td>10 days</td>\n",
              "      <td>52.360576</td>\n",
              "      <td>4.915968</td>\n",
              "      <td>7</td>\n",
              "      <td>2017</td>\n",
              "    </tr>\n",
              "    <tr>\n",
              "      <th>Hotel Arena</th>\n",
              "      <td>194</td>\n",
              "      <td>7.7</td>\n",
              "      <td>Poland</td>\n",
              "      <td>17</td>\n",
              "      <td>1403</td>\n",
              "      <td>20</td>\n",
              "      <td>1</td>\n",
              "      <td>6.7</td>\n",
              "      <td>[' Leisure trip ', ' Group ', ' Duplex Double ...</td>\n",
              "      <td>10 days</td>\n",
              "      <td>52.360576</td>\n",
              "      <td>4.915968</td>\n",
              "      <td>7</td>\n",
              "      <td>2017</td>\n",
              "    </tr>\n",
              "    <tr>\n",
              "      <th>Hotel Arena</th>\n",
              "      <td>194</td>\n",
              "      <td>7.7</td>\n",
              "      <td>United Kingdom</td>\n",
              "      <td>33</td>\n",
              "      <td>1403</td>\n",
              "      <td>18</td>\n",
              "      <td>6</td>\n",
              "      <td>4.6</td>\n",
              "      <td>[' Leisure trip ', ' Group ', ' Duplex Twin Ro...</td>\n",
              "      <td>17 days</td>\n",
              "      <td>52.360576</td>\n",
              "      <td>4.915968</td>\n",
              "      <td>7</td>\n",
              "      <td>2017</td>\n",
              "    </tr>\n",
              "    <tr>\n",
              "      <th>Hotel Arena</th>\n",
              "      <td>194</td>\n",
              "      <td>7.7</td>\n",
              "      <td>United Kingdom</td>\n",
              "      <td>11</td>\n",
              "      <td>1403</td>\n",
              "      <td>19</td>\n",
              "      <td>1</td>\n",
              "      <td>10.0</td>\n",
              "      <td>[' Leisure trip ', ' Couple ', ' Duplex Double...</td>\n",
              "      <td>17 days</td>\n",
              "      <td>52.360576</td>\n",
              "      <td>4.915968</td>\n",
              "      <td>7</td>\n",
              "      <td>2017</td>\n",
              "    </tr>\n",
              "    <tr>\n",
              "      <th>Hotel Arena</th>\n",
              "      <td>194</td>\n",
              "      <td>7.7</td>\n",
              "      <td>Belgium</td>\n",
              "      <td>34</td>\n",
              "      <td>1403</td>\n",
              "      <td>0</td>\n",
              "      <td>3</td>\n",
              "      <td>6.5</td>\n",
              "      <td>[' Leisure trip ', ' Couple ', ' Duplex Double...</td>\n",
              "      <td>25 days</td>\n",
              "      <td>52.360576</td>\n",
              "      <td>4.915968</td>\n",
              "      <td>7</td>\n",
              "      <td>2017</td>\n",
              "    </tr>\n",
              "    <tr>\n",
              "      <th>Hotel Arena</th>\n",
              "      <td>194</td>\n",
              "      <td>7.7</td>\n",
              "      <td>Norway</td>\n",
              "      <td>15</td>\n",
              "      <td>1403</td>\n",
              "      <td>50</td>\n",
              "      <td>1</td>\n",
              "      <td>7.9</td>\n",
              "      <td>[' Leisure trip ', ' Couple ', ' Large King Ro...</td>\n",
              "      <td>26 days</td>\n",
              "      <td>52.360576</td>\n",
              "      <td>4.915968</td>\n",
              "      <td>7</td>\n",
              "      <td>2017</td>\n",
              "    </tr>\n",
              "  </tbody>\n",
              "</table>\n",
              "</div>"
            ],
            "text/plain": [
              "             Additional_Number_of_Scoring  ...  Review_Year\n",
              "Hotel_Name                                 ...             \n",
              "Hotel Arena                           194  ...         2017\n",
              "Hotel Arena                           194  ...         2017\n",
              "Hotel Arena                           194  ...         2017\n",
              "Hotel Arena                           194  ...         2017\n",
              "Hotel Arena                           194  ...         2017\n",
              "Hotel Arena                           194  ...         2017\n",
              "Hotel Arena                           194  ...         2017\n",
              "Hotel Arena                           194  ...         2017\n",
              "Hotel Arena                           194  ...         2017\n",
              "Hotel Arena                           194  ...         2017\n",
              "\n",
              "[10 rows x 14 columns]"
            ]
          },
          "metadata": {
            "tags": []
          },
          "execution_count": 23
        }
      ]
    },
    {
      "cell_type": "code",
      "metadata": {
        "id": "6dK5-RiOrLGv"
      },
      "source": [
        "list_id = new_df['Reviewer_Nationality'].unique().tolist()"
      ],
      "execution_count": null,
      "outputs": []
    },
    {
      "cell_type": "code",
      "metadata": {
        "id": "8QNvDztQx2CG"
      },
      "source": [
        "def add_Natid(nation):\n",
        "  for i in range(len(list_id)):\n",
        "    if nation == list_id[i]:\n",
        "      return i"
      ],
      "execution_count": null,
      "outputs": []
    },
    {
      "cell_type": "code",
      "metadata": {
        "id": "l9O-xyeXyOj6"
      },
      "source": [
        "new_df['Reviewer_Nationality_id'] = new_df['Reviewer_Nationality'].apply(add_Natid)"
      ],
      "execution_count": null,
      "outputs": []
    },
    {
      "cell_type": "code",
      "metadata": {
        "id": "ntPXndb0zT9B",
        "outputId": "a8360d22-f852-420f-ba4c-275828dd7e17",
        "colab": {
          "base_uri": "https://localhost:8080/",
          "height": 597
        }
      },
      "source": [
        "new_df.head()"
      ],
      "execution_count": null,
      "outputs": [
        {
          "output_type": "execute_result",
          "data": {
            "text/html": [
              "<div>\n",
              "<style scoped>\n",
              "    .dataframe tbody tr th:only-of-type {\n",
              "        vertical-align: middle;\n",
              "    }\n",
              "\n",
              "    .dataframe tbody tr th {\n",
              "        vertical-align: top;\n",
              "    }\n",
              "\n",
              "    .dataframe thead th {\n",
              "        text-align: right;\n",
              "    }\n",
              "</style>\n",
              "<table border=\"1\" class=\"dataframe\">\n",
              "  <thead>\n",
              "    <tr style=\"text-align: right;\">\n",
              "      <th></th>\n",
              "      <th>Additional_Number_of_Scoring</th>\n",
              "      <th>Average_Score</th>\n",
              "      <th>Reviewer_Nationality</th>\n",
              "      <th>Review_Total_Negative_Word_Counts</th>\n",
              "      <th>Total_Number_of_Reviews</th>\n",
              "      <th>Review_Total_Positive_Word_Counts</th>\n",
              "      <th>Total_Number_of_Reviews_Reviewer_Has_Given</th>\n",
              "      <th>Reviewer_Score</th>\n",
              "      <th>Tags</th>\n",
              "      <th>days_since_review</th>\n",
              "      <th>lat</th>\n",
              "      <th>lng</th>\n",
              "      <th>Review_Month</th>\n",
              "      <th>Review_Year</th>\n",
              "      <th>Reviewer_Nationality_id</th>\n",
              "    </tr>\n",
              "    <tr>\n",
              "      <th>Hotel_Name</th>\n",
              "      <th></th>\n",
              "      <th></th>\n",
              "      <th></th>\n",
              "      <th></th>\n",
              "      <th></th>\n",
              "      <th></th>\n",
              "      <th></th>\n",
              "      <th></th>\n",
              "      <th></th>\n",
              "      <th></th>\n",
              "      <th></th>\n",
              "      <th></th>\n",
              "      <th></th>\n",
              "      <th></th>\n",
              "      <th></th>\n",
              "    </tr>\n",
              "  </thead>\n",
              "  <tbody>\n",
              "    <tr>\n",
              "      <th>Hotel Arena</th>\n",
              "      <td>194</td>\n",
              "      <td>7.7</td>\n",
              "      <td>Russia</td>\n",
              "      <td>397</td>\n",
              "      <td>1403</td>\n",
              "      <td>11</td>\n",
              "      <td>7</td>\n",
              "      <td>2.9</td>\n",
              "      <td>[' Leisure trip ', ' Couple ', ' Duplex Double...</td>\n",
              "      <td>0 days</td>\n",
              "      <td>52.360576</td>\n",
              "      <td>4.915968</td>\n",
              "      <td>8</td>\n",
              "      <td>2017</td>\n",
              "      <td>0</td>\n",
              "    </tr>\n",
              "    <tr>\n",
              "      <th>Hotel Arena</th>\n",
              "      <td>194</td>\n",
              "      <td>7.7</td>\n",
              "      <td>Ireland</td>\n",
              "      <td>0</td>\n",
              "      <td>1403</td>\n",
              "      <td>105</td>\n",
              "      <td>7</td>\n",
              "      <td>7.5</td>\n",
              "      <td>[' Leisure trip ', ' Couple ', ' Duplex Double...</td>\n",
              "      <td>0 days</td>\n",
              "      <td>52.360576</td>\n",
              "      <td>4.915968</td>\n",
              "      <td>8</td>\n",
              "      <td>2017</td>\n",
              "      <td>1</td>\n",
              "    </tr>\n",
              "    <tr>\n",
              "      <th>Hotel Arena</th>\n",
              "      <td>194</td>\n",
              "      <td>7.7</td>\n",
              "      <td>Australia</td>\n",
              "      <td>42</td>\n",
              "      <td>1403</td>\n",
              "      <td>21</td>\n",
              "      <td>9</td>\n",
              "      <td>7.1</td>\n",
              "      <td>[' Leisure trip ', ' Family with young childre...</td>\n",
              "      <td>3 days</td>\n",
              "      <td>52.360576</td>\n",
              "      <td>4.915968</td>\n",
              "      <td>7</td>\n",
              "      <td>2017</td>\n",
              "      <td>2</td>\n",
              "    </tr>\n",
              "    <tr>\n",
              "      <th>Hotel Arena</th>\n",
              "      <td>194</td>\n",
              "      <td>7.7</td>\n",
              "      <td>United Kingdom</td>\n",
              "      <td>210</td>\n",
              "      <td>1403</td>\n",
              "      <td>26</td>\n",
              "      <td>1</td>\n",
              "      <td>3.8</td>\n",
              "      <td>[' Leisure trip ', ' Solo traveler ', ' Duplex...</td>\n",
              "      <td>3 days</td>\n",
              "      <td>52.360576</td>\n",
              "      <td>4.915968</td>\n",
              "      <td>7</td>\n",
              "      <td>2017</td>\n",
              "      <td>3</td>\n",
              "    </tr>\n",
              "    <tr>\n",
              "      <th>Hotel Arena</th>\n",
              "      <td>194</td>\n",
              "      <td>7.7</td>\n",
              "      <td>New Zealand</td>\n",
              "      <td>140</td>\n",
              "      <td>1403</td>\n",
              "      <td>8</td>\n",
              "      <td>3</td>\n",
              "      <td>6.7</td>\n",
              "      <td>[' Leisure trip ', ' Couple ', ' Suite ', ' St...</td>\n",
              "      <td>10 days</td>\n",
              "      <td>52.360576</td>\n",
              "      <td>4.915968</td>\n",
              "      <td>7</td>\n",
              "      <td>2017</td>\n",
              "      <td>4</td>\n",
              "    </tr>\n",
              "  </tbody>\n",
              "</table>\n",
              "</div>"
            ],
            "text/plain": [
              "             Additional_Number_of_Scoring  ...  Reviewer_Nationality_id\n",
              "Hotel_Name                                 ...                         \n",
              "Hotel Arena                           194  ...                        0\n",
              "Hotel Arena                           194  ...                        1\n",
              "Hotel Arena                           194  ...                        2\n",
              "Hotel Arena                           194  ...                        3\n",
              "Hotel Arena                           194  ...                        4\n",
              "\n",
              "[5 rows x 15 columns]"
            ]
          },
          "metadata": {
            "tags": []
          },
          "execution_count": 27
        }
      ]
    },
    {
      "cell_type": "code",
      "metadata": {
        "id": "5FihB-0JzYfG"
      },
      "source": [
        "new_df.drop('Reviewer_Nationality', axis=1,inplace=True)"
      ],
      "execution_count": null,
      "outputs": []
    },
    {
      "cell_type": "code",
      "metadata": {
        "id": "Bw1lgQrN0Rxr",
        "outputId": "efedb63d-2db7-4e02-917f-dba2ad50cb51",
        "colab": {
          "base_uri": "https://localhost:8080/",
          "height": 597
        }
      },
      "source": [
        "new_df.head()"
      ],
      "execution_count": null,
      "outputs": [
        {
          "output_type": "execute_result",
          "data": {
            "text/html": [
              "<div>\n",
              "<style scoped>\n",
              "    .dataframe tbody tr th:only-of-type {\n",
              "        vertical-align: middle;\n",
              "    }\n",
              "\n",
              "    .dataframe tbody tr th {\n",
              "        vertical-align: top;\n",
              "    }\n",
              "\n",
              "    .dataframe thead th {\n",
              "        text-align: right;\n",
              "    }\n",
              "</style>\n",
              "<table border=\"1\" class=\"dataframe\">\n",
              "  <thead>\n",
              "    <tr style=\"text-align: right;\">\n",
              "      <th></th>\n",
              "      <th>Additional_Number_of_Scoring</th>\n",
              "      <th>Average_Score</th>\n",
              "      <th>Review_Total_Negative_Word_Counts</th>\n",
              "      <th>Total_Number_of_Reviews</th>\n",
              "      <th>Review_Total_Positive_Word_Counts</th>\n",
              "      <th>Total_Number_of_Reviews_Reviewer_Has_Given</th>\n",
              "      <th>Reviewer_Score</th>\n",
              "      <th>Tags</th>\n",
              "      <th>days_since_review</th>\n",
              "      <th>lat</th>\n",
              "      <th>lng</th>\n",
              "      <th>Review_Month</th>\n",
              "      <th>Review_Year</th>\n",
              "      <th>Reviewer_Nationality_id</th>\n",
              "    </tr>\n",
              "    <tr>\n",
              "      <th>Hotel_Name</th>\n",
              "      <th></th>\n",
              "      <th></th>\n",
              "      <th></th>\n",
              "      <th></th>\n",
              "      <th></th>\n",
              "      <th></th>\n",
              "      <th></th>\n",
              "      <th></th>\n",
              "      <th></th>\n",
              "      <th></th>\n",
              "      <th></th>\n",
              "      <th></th>\n",
              "      <th></th>\n",
              "      <th></th>\n",
              "    </tr>\n",
              "  </thead>\n",
              "  <tbody>\n",
              "    <tr>\n",
              "      <th>Hotel Arena</th>\n",
              "      <td>194</td>\n",
              "      <td>7.7</td>\n",
              "      <td>397</td>\n",
              "      <td>1403</td>\n",
              "      <td>11</td>\n",
              "      <td>7</td>\n",
              "      <td>2.9</td>\n",
              "      <td>[' Leisure trip ', ' Couple ', ' Duplex Double...</td>\n",
              "      <td>0 days</td>\n",
              "      <td>52.360576</td>\n",
              "      <td>4.915968</td>\n",
              "      <td>8</td>\n",
              "      <td>2017</td>\n",
              "      <td>0</td>\n",
              "    </tr>\n",
              "    <tr>\n",
              "      <th>Hotel Arena</th>\n",
              "      <td>194</td>\n",
              "      <td>7.7</td>\n",
              "      <td>0</td>\n",
              "      <td>1403</td>\n",
              "      <td>105</td>\n",
              "      <td>7</td>\n",
              "      <td>7.5</td>\n",
              "      <td>[' Leisure trip ', ' Couple ', ' Duplex Double...</td>\n",
              "      <td>0 days</td>\n",
              "      <td>52.360576</td>\n",
              "      <td>4.915968</td>\n",
              "      <td>8</td>\n",
              "      <td>2017</td>\n",
              "      <td>1</td>\n",
              "    </tr>\n",
              "    <tr>\n",
              "      <th>Hotel Arena</th>\n",
              "      <td>194</td>\n",
              "      <td>7.7</td>\n",
              "      <td>42</td>\n",
              "      <td>1403</td>\n",
              "      <td>21</td>\n",
              "      <td>9</td>\n",
              "      <td>7.1</td>\n",
              "      <td>[' Leisure trip ', ' Family with young childre...</td>\n",
              "      <td>3 days</td>\n",
              "      <td>52.360576</td>\n",
              "      <td>4.915968</td>\n",
              "      <td>7</td>\n",
              "      <td>2017</td>\n",
              "      <td>2</td>\n",
              "    </tr>\n",
              "    <tr>\n",
              "      <th>Hotel Arena</th>\n",
              "      <td>194</td>\n",
              "      <td>7.7</td>\n",
              "      <td>210</td>\n",
              "      <td>1403</td>\n",
              "      <td>26</td>\n",
              "      <td>1</td>\n",
              "      <td>3.8</td>\n",
              "      <td>[' Leisure trip ', ' Solo traveler ', ' Duplex...</td>\n",
              "      <td>3 days</td>\n",
              "      <td>52.360576</td>\n",
              "      <td>4.915968</td>\n",
              "      <td>7</td>\n",
              "      <td>2017</td>\n",
              "      <td>3</td>\n",
              "    </tr>\n",
              "    <tr>\n",
              "      <th>Hotel Arena</th>\n",
              "      <td>194</td>\n",
              "      <td>7.7</td>\n",
              "      <td>140</td>\n",
              "      <td>1403</td>\n",
              "      <td>8</td>\n",
              "      <td>3</td>\n",
              "      <td>6.7</td>\n",
              "      <td>[' Leisure trip ', ' Couple ', ' Suite ', ' St...</td>\n",
              "      <td>10 days</td>\n",
              "      <td>52.360576</td>\n",
              "      <td>4.915968</td>\n",
              "      <td>7</td>\n",
              "      <td>2017</td>\n",
              "      <td>4</td>\n",
              "    </tr>\n",
              "  </tbody>\n",
              "</table>\n",
              "</div>"
            ],
            "text/plain": [
              "             Additional_Number_of_Scoring  ...  Reviewer_Nationality_id\n",
              "Hotel_Name                                 ...                         \n",
              "Hotel Arena                           194  ...                        0\n",
              "Hotel Arena                           194  ...                        1\n",
              "Hotel Arena                           194  ...                        2\n",
              "Hotel Arena                           194  ...                        3\n",
              "Hotel Arena                           194  ...                        4\n",
              "\n",
              "[5 rows x 14 columns]"
            ]
          },
          "metadata": {
            "tags": []
          },
          "execution_count": 29
        }
      ]
    },
    {
      "cell_type": "code",
      "metadata": {
        "id": "9Ni3UwE30VDA",
        "outputId": "a05e6e24-55db-4a2b-8d6b-e6d3ba2aebff",
        "colab": {
          "base_uri": "https://localhost:8080/",
          "height": 147
        }
      },
      "source": [
        "new_df['Tags'].unique()"
      ],
      "execution_count": null,
      "outputs": [
        {
          "output_type": "execute_result",
          "data": {
            "text/plain": [
              "array([\"[' Leisure trip ', ' Couple ', ' Duplex Double Room ', ' Stayed 6 nights ']\",\n",
              "       \"[' Leisure trip ', ' Couple ', ' Duplex Double Room ', ' Stayed 4 nights ']\",\n",
              "       \"[' Leisure trip ', ' Family with young children ', ' Duplex Double Room ', ' Stayed 3 nights ', ' Submitted from a mobile device ']\",\n",
              "       ...,\n",
              "       \"[' Leisure trip ', ' Solo traveler ', ' Superior Double Room with Garden View ', ' Stayed 1 night ', ' Submitted from a mobile device ']\",\n",
              "       \"[' Business trip ', ' Solo traveler ', ' Superior Double Room with Garden View ', ' Stayed 2 nights ']\",\n",
              "       \"[' Leisure trip ', ' Family with young children ', ' Standard Double or Twin Room ', ' Stayed 10 nights ']\"],\n",
              "      dtype=object)"
            ]
          },
          "metadata": {
            "tags": []
          },
          "execution_count": 30
        }
      ]
    },
    {
      "cell_type": "code",
      "metadata": {
        "id": "U2TpcIoxdyP6",
        "outputId": "bb6ab20e-b5ef-42ec-961b-c4f70ecdfe5a",
        "colab": {
          "base_uri": "https://localhost:8080/",
          "height": 33
        }
      },
      "source": [
        "new_df['Tags'].nunique()"
      ],
      "execution_count": null,
      "outputs": [
        {
          "output_type": "execute_result",
          "data": {
            "text/plain": [
              "55242"
            ]
          },
          "metadata": {
            "tags": []
          },
          "execution_count": 59
        }
      ]
    },
    {
      "cell_type": "code",
      "metadata": {
        "id": "VDTX2IU90_cO"
      },
      "source": [
        "new_df.reset_index(inplace=True)"
      ],
      "execution_count": null,
      "outputs": []
    },
    {
      "cell_type": "code",
      "metadata": {
        "id": "zRZNkTdL1dnz",
        "outputId": "2ac02415-33e0-407e-90c0-d65c8a0e2a6d",
        "colab": {
          "base_uri": "https://localhost:8080/",
          "height": 568
        }
      },
      "source": [
        "new_df.head()"
      ],
      "execution_count": null,
      "outputs": [
        {
          "output_type": "execute_result",
          "data": {
            "text/html": [
              "<div>\n",
              "<style scoped>\n",
              "    .dataframe tbody tr th:only-of-type {\n",
              "        vertical-align: middle;\n",
              "    }\n",
              "\n",
              "    .dataframe tbody tr th {\n",
              "        vertical-align: top;\n",
              "    }\n",
              "\n",
              "    .dataframe thead th {\n",
              "        text-align: right;\n",
              "    }\n",
              "</style>\n",
              "<table border=\"1\" class=\"dataframe\">\n",
              "  <thead>\n",
              "    <tr style=\"text-align: right;\">\n",
              "      <th></th>\n",
              "      <th>Hotel_Name</th>\n",
              "      <th>Additional_Number_of_Scoring</th>\n",
              "      <th>Average_Score</th>\n",
              "      <th>Review_Total_Negative_Word_Counts</th>\n",
              "      <th>Total_Number_of_Reviews</th>\n",
              "      <th>Review_Total_Positive_Word_Counts</th>\n",
              "      <th>Total_Number_of_Reviews_Reviewer_Has_Given</th>\n",
              "      <th>Reviewer_Score</th>\n",
              "      <th>Tags</th>\n",
              "      <th>days_since_review</th>\n",
              "      <th>lat</th>\n",
              "      <th>lng</th>\n",
              "      <th>Review_Month</th>\n",
              "      <th>Review_Year</th>\n",
              "      <th>Reviewer_Nationality_id</th>\n",
              "    </tr>\n",
              "  </thead>\n",
              "  <tbody>\n",
              "    <tr>\n",
              "      <th>0</th>\n",
              "      <td>Hotel Arena</td>\n",
              "      <td>194</td>\n",
              "      <td>7.7</td>\n",
              "      <td>397</td>\n",
              "      <td>1403</td>\n",
              "      <td>11</td>\n",
              "      <td>7</td>\n",
              "      <td>2.9</td>\n",
              "      <td>[' Leisure trip ', ' Couple ', ' Duplex Double...</td>\n",
              "      <td>0 days</td>\n",
              "      <td>52.360576</td>\n",
              "      <td>4.915968</td>\n",
              "      <td>8</td>\n",
              "      <td>2017</td>\n",
              "      <td>0</td>\n",
              "    </tr>\n",
              "    <tr>\n",
              "      <th>1</th>\n",
              "      <td>Hotel Arena</td>\n",
              "      <td>194</td>\n",
              "      <td>7.7</td>\n",
              "      <td>0</td>\n",
              "      <td>1403</td>\n",
              "      <td>105</td>\n",
              "      <td>7</td>\n",
              "      <td>7.5</td>\n",
              "      <td>[' Leisure trip ', ' Couple ', ' Duplex Double...</td>\n",
              "      <td>0 days</td>\n",
              "      <td>52.360576</td>\n",
              "      <td>4.915968</td>\n",
              "      <td>8</td>\n",
              "      <td>2017</td>\n",
              "      <td>1</td>\n",
              "    </tr>\n",
              "    <tr>\n",
              "      <th>2</th>\n",
              "      <td>Hotel Arena</td>\n",
              "      <td>194</td>\n",
              "      <td>7.7</td>\n",
              "      <td>42</td>\n",
              "      <td>1403</td>\n",
              "      <td>21</td>\n",
              "      <td>9</td>\n",
              "      <td>7.1</td>\n",
              "      <td>[' Leisure trip ', ' Family with young childre...</td>\n",
              "      <td>3 days</td>\n",
              "      <td>52.360576</td>\n",
              "      <td>4.915968</td>\n",
              "      <td>7</td>\n",
              "      <td>2017</td>\n",
              "      <td>2</td>\n",
              "    </tr>\n",
              "    <tr>\n",
              "      <th>3</th>\n",
              "      <td>Hotel Arena</td>\n",
              "      <td>194</td>\n",
              "      <td>7.7</td>\n",
              "      <td>210</td>\n",
              "      <td>1403</td>\n",
              "      <td>26</td>\n",
              "      <td>1</td>\n",
              "      <td>3.8</td>\n",
              "      <td>[' Leisure trip ', ' Solo traveler ', ' Duplex...</td>\n",
              "      <td>3 days</td>\n",
              "      <td>52.360576</td>\n",
              "      <td>4.915968</td>\n",
              "      <td>7</td>\n",
              "      <td>2017</td>\n",
              "      <td>3</td>\n",
              "    </tr>\n",
              "    <tr>\n",
              "      <th>4</th>\n",
              "      <td>Hotel Arena</td>\n",
              "      <td>194</td>\n",
              "      <td>7.7</td>\n",
              "      <td>140</td>\n",
              "      <td>1403</td>\n",
              "      <td>8</td>\n",
              "      <td>3</td>\n",
              "      <td>6.7</td>\n",
              "      <td>[' Leisure trip ', ' Couple ', ' Suite ', ' St...</td>\n",
              "      <td>10 days</td>\n",
              "      <td>52.360576</td>\n",
              "      <td>4.915968</td>\n",
              "      <td>7</td>\n",
              "      <td>2017</td>\n",
              "      <td>4</td>\n",
              "    </tr>\n",
              "  </tbody>\n",
              "</table>\n",
              "</div>"
            ],
            "text/plain": [
              "    Hotel_Name  ...  Reviewer_Nationality_id\n",
              "0  Hotel Arena  ...                        0\n",
              "1  Hotel Arena  ...                        1\n",
              "2  Hotel Arena  ...                        2\n",
              "3  Hotel Arena  ...                        3\n",
              "4  Hotel Arena  ...                        4\n",
              "\n",
              "[5 rows x 15 columns]"
            ]
          },
          "metadata": {
            "tags": []
          },
          "execution_count": 33
        }
      ]
    },
    {
      "cell_type": "code",
      "metadata": {
        "id": "t7RNUodPeSBq"
      },
      "source": [
        "tag_list = new_df['Tags'].unique().tolist()"
      ],
      "execution_count": null,
      "outputs": []
    },
    {
      "cell_type": "code",
      "metadata": {
        "id": "VQ_sIgL_eeaA"
      },
      "source": [
        "def add_tagid(name):\n",
        "  for i in range(len(tag_list)):\n",
        "    if name == tag_list[i]:\n",
        "      return i\n",
        "    else:\n",
        "      continue"
      ],
      "execution_count": null,
      "outputs": []
    },
    {
      "cell_type": "code",
      "metadata": {
        "id": "DI9N2K72ermv"
      },
      "source": [
        "new_df['tag_ID'] = new_df['Tags'].apply(add_tagid)"
      ],
      "execution_count": null,
      "outputs": []
    },
    {
      "cell_type": "code",
      "metadata": {
        "id": "2qpHOTDk1gph"
      },
      "source": [
        "list_nameid = new_df['Hotel_Name'].unique().tolist()"
      ],
      "execution_count": null,
      "outputs": []
    },
    {
      "cell_type": "code",
      "metadata": {
        "id": "Kx-uMeLv2ERP"
      },
      "source": [
        "def add_nameid(name):\n",
        "  for i in range(len(list_nameid)):\n",
        "    if name == list_nameid[i]:\n",
        "      return i\n",
        "    else:\n",
        "      continue"
      ],
      "execution_count": null,
      "outputs": []
    },
    {
      "cell_type": "code",
      "metadata": {
        "id": "TGeFiOCf2dMh"
      },
      "source": [
        "new_df['Hotel_Name_ID'] = new_df['Hotel_Name'].apply(add_nameid)"
      ],
      "execution_count": null,
      "outputs": []
    },
    {
      "cell_type": "code",
      "metadata": {
        "id": "NpYfY7Tr0vgV"
      },
      "source": [
        "new_df.drop('Tags',axis=1,inplace=True)"
      ],
      "execution_count": null,
      "outputs": []
    },
    {
      "cell_type": "code",
      "metadata": {
        "id": "3bW9XOIg20PM",
        "outputId": "ebe92cfa-9c82-4b2e-bd08-f24b405aaacd",
        "colab": {
          "base_uri": "https://localhost:8080/",
          "height": 211
        }
      },
      "source": [
        "new_df.head()"
      ],
      "execution_count": null,
      "outputs": [
        {
          "output_type": "execute_result",
          "data": {
            "text/html": [
              "<div>\n",
              "<style scoped>\n",
              "    .dataframe tbody tr th:only-of-type {\n",
              "        vertical-align: middle;\n",
              "    }\n",
              "\n",
              "    .dataframe tbody tr th {\n",
              "        vertical-align: top;\n",
              "    }\n",
              "\n",
              "    .dataframe thead th {\n",
              "        text-align: right;\n",
              "    }\n",
              "</style>\n",
              "<table border=\"1\" class=\"dataframe\">\n",
              "  <thead>\n",
              "    <tr style=\"text-align: right;\">\n",
              "      <th></th>\n",
              "      <th>Hotel_Name</th>\n",
              "      <th>Additional_Number_of_Scoring</th>\n",
              "      <th>Average_Score</th>\n",
              "      <th>Review_Total_Negative_Word_Counts</th>\n",
              "      <th>Total_Number_of_Reviews</th>\n",
              "      <th>Review_Total_Positive_Word_Counts</th>\n",
              "      <th>Total_Number_of_Reviews_Reviewer_Has_Given</th>\n",
              "      <th>Reviewer_Score</th>\n",
              "      <th>lat</th>\n",
              "      <th>lng</th>\n",
              "      <th>Review_Month</th>\n",
              "      <th>Review_Year</th>\n",
              "      <th>Reviewer_Nationality_id</th>\n",
              "      <th>Hotel_Name_ID</th>\n",
              "      <th>days_since_review_ID</th>\n",
              "      <th>tag_ID</th>\n",
              "    </tr>\n",
              "  </thead>\n",
              "  <tbody>\n",
              "    <tr>\n",
              "      <th>0</th>\n",
              "      <td>Hotel Arena</td>\n",
              "      <td>194</td>\n",
              "      <td>7.7</td>\n",
              "      <td>397</td>\n",
              "      <td>1403</td>\n",
              "      <td>11</td>\n",
              "      <td>7</td>\n",
              "      <td>2.9</td>\n",
              "      <td>52.360576</td>\n",
              "      <td>4.915968</td>\n",
              "      <td>8.0</td>\n",
              "      <td>2017</td>\n",
              "      <td>0</td>\n",
              "      <td>0</td>\n",
              "      <td>0.0</td>\n",
              "      <td>0</td>\n",
              "    </tr>\n",
              "    <tr>\n",
              "      <th>1</th>\n",
              "      <td>Hotel Arena</td>\n",
              "      <td>194</td>\n",
              "      <td>7.7</td>\n",
              "      <td>0</td>\n",
              "      <td>1403</td>\n",
              "      <td>105</td>\n",
              "      <td>7</td>\n",
              "      <td>7.5</td>\n",
              "      <td>52.360576</td>\n",
              "      <td>4.915968</td>\n",
              "      <td>8.0</td>\n",
              "      <td>2017</td>\n",
              "      <td>1</td>\n",
              "      <td>0</td>\n",
              "      <td>0.0</td>\n",
              "      <td>1</td>\n",
              "    </tr>\n",
              "    <tr>\n",
              "      <th>2</th>\n",
              "      <td>Hotel Arena</td>\n",
              "      <td>194</td>\n",
              "      <td>7.7</td>\n",
              "      <td>42</td>\n",
              "      <td>1403</td>\n",
              "      <td>21</td>\n",
              "      <td>9</td>\n",
              "      <td>7.1</td>\n",
              "      <td>52.360576</td>\n",
              "      <td>4.915968</td>\n",
              "      <td>7.0</td>\n",
              "      <td>2017</td>\n",
              "      <td>2</td>\n",
              "      <td>0</td>\n",
              "      <td>3.0</td>\n",
              "      <td>2</td>\n",
              "    </tr>\n",
              "    <tr>\n",
              "      <th>3</th>\n",
              "      <td>Hotel Arena</td>\n",
              "      <td>194</td>\n",
              "      <td>7.7</td>\n",
              "      <td>210</td>\n",
              "      <td>1403</td>\n",
              "      <td>26</td>\n",
              "      <td>1</td>\n",
              "      <td>3.8</td>\n",
              "      <td>52.360576</td>\n",
              "      <td>4.915968</td>\n",
              "      <td>7.0</td>\n",
              "      <td>2017</td>\n",
              "      <td>3</td>\n",
              "      <td>0</td>\n",
              "      <td>3.0</td>\n",
              "      <td>3</td>\n",
              "    </tr>\n",
              "    <tr>\n",
              "      <th>4</th>\n",
              "      <td>Hotel Arena</td>\n",
              "      <td>194</td>\n",
              "      <td>7.7</td>\n",
              "      <td>140</td>\n",
              "      <td>1403</td>\n",
              "      <td>8</td>\n",
              "      <td>3</td>\n",
              "      <td>6.7</td>\n",
              "      <td>52.360576</td>\n",
              "      <td>4.915968</td>\n",
              "      <td>7.0</td>\n",
              "      <td>2017</td>\n",
              "      <td>4</td>\n",
              "      <td>0</td>\n",
              "      <td>10.0</td>\n",
              "      <td>4</td>\n",
              "    </tr>\n",
              "  </tbody>\n",
              "</table>\n",
              "</div>"
            ],
            "text/plain": [
              "    Hotel_Name  Additional_Number_of_Scoring  ...  days_since_review_ID  tag_ID\n",
              "0  Hotel Arena                           194  ...                   0.0       0\n",
              "1  Hotel Arena                           194  ...                   0.0       1\n",
              "2  Hotel Arena                           194  ...                   3.0       2\n",
              "3  Hotel Arena                           194  ...                   3.0       3\n",
              "4  Hotel Arena                           194  ...                  10.0       4\n",
              "\n",
              "[5 rows x 16 columns]"
            ]
          },
          "metadata": {
            "tags": []
          },
          "execution_count": 65
        }
      ]
    },
    {
      "cell_type": "code",
      "metadata": {
        "id": "AKs24b0X29fj"
      },
      "source": [
        "#new_df.drop('Hotel_Name', axis=1, inplace=True)"
      ],
      "execution_count": null,
      "outputs": []
    },
    {
      "cell_type": "code",
      "metadata": {
        "id": "PHgI5yD73Tzi",
        "outputId": "6b58f051-8b9b-42f9-d4ed-447f5dcce686",
        "colab": {
          "base_uri": "https://localhost:8080/",
          "height": 568
        }
      },
      "source": [
        "new_df.head()"
      ],
      "execution_count": null,
      "outputs": [
        {
          "output_type": "execute_result",
          "data": {
            "text/html": [
              "<div>\n",
              "<style scoped>\n",
              "    .dataframe tbody tr th:only-of-type {\n",
              "        vertical-align: middle;\n",
              "    }\n",
              "\n",
              "    .dataframe tbody tr th {\n",
              "        vertical-align: top;\n",
              "    }\n",
              "\n",
              "    .dataframe thead th {\n",
              "        text-align: right;\n",
              "    }\n",
              "</style>\n",
              "<table border=\"1\" class=\"dataframe\">\n",
              "  <thead>\n",
              "    <tr style=\"text-align: right;\">\n",
              "      <th></th>\n",
              "      <th>Hotel_Name</th>\n",
              "      <th>Additional_Number_of_Scoring</th>\n",
              "      <th>Average_Score</th>\n",
              "      <th>Review_Total_Negative_Word_Counts</th>\n",
              "      <th>Total_Number_of_Reviews</th>\n",
              "      <th>Review_Total_Positive_Word_Counts</th>\n",
              "      <th>Total_Number_of_Reviews_Reviewer_Has_Given</th>\n",
              "      <th>Reviewer_Score</th>\n",
              "      <th>Tags</th>\n",
              "      <th>days_since_review</th>\n",
              "      <th>lat</th>\n",
              "      <th>lng</th>\n",
              "      <th>Review_Month</th>\n",
              "      <th>Review_Year</th>\n",
              "      <th>Reviewer_Nationality_id</th>\n",
              "      <th>Hotel_Name_ID</th>\n",
              "    </tr>\n",
              "  </thead>\n",
              "  <tbody>\n",
              "    <tr>\n",
              "      <th>0</th>\n",
              "      <td>Hotel Arena</td>\n",
              "      <td>194</td>\n",
              "      <td>7.7</td>\n",
              "      <td>397</td>\n",
              "      <td>1403</td>\n",
              "      <td>11</td>\n",
              "      <td>7</td>\n",
              "      <td>2.9</td>\n",
              "      <td>[' Leisure trip ', ' Couple ', ' Duplex Double...</td>\n",
              "      <td>0 days</td>\n",
              "      <td>52.360576</td>\n",
              "      <td>4.915968</td>\n",
              "      <td>8</td>\n",
              "      <td>2017</td>\n",
              "      <td>0</td>\n",
              "      <td>0</td>\n",
              "    </tr>\n",
              "    <tr>\n",
              "      <th>1</th>\n",
              "      <td>Hotel Arena</td>\n",
              "      <td>194</td>\n",
              "      <td>7.7</td>\n",
              "      <td>0</td>\n",
              "      <td>1403</td>\n",
              "      <td>105</td>\n",
              "      <td>7</td>\n",
              "      <td>7.5</td>\n",
              "      <td>[' Leisure trip ', ' Couple ', ' Duplex Double...</td>\n",
              "      <td>0 days</td>\n",
              "      <td>52.360576</td>\n",
              "      <td>4.915968</td>\n",
              "      <td>8</td>\n",
              "      <td>2017</td>\n",
              "      <td>1</td>\n",
              "      <td>0</td>\n",
              "    </tr>\n",
              "    <tr>\n",
              "      <th>2</th>\n",
              "      <td>Hotel Arena</td>\n",
              "      <td>194</td>\n",
              "      <td>7.7</td>\n",
              "      <td>42</td>\n",
              "      <td>1403</td>\n",
              "      <td>21</td>\n",
              "      <td>9</td>\n",
              "      <td>7.1</td>\n",
              "      <td>[' Leisure trip ', ' Family with young childre...</td>\n",
              "      <td>3 days</td>\n",
              "      <td>52.360576</td>\n",
              "      <td>4.915968</td>\n",
              "      <td>7</td>\n",
              "      <td>2017</td>\n",
              "      <td>2</td>\n",
              "      <td>0</td>\n",
              "    </tr>\n",
              "    <tr>\n",
              "      <th>3</th>\n",
              "      <td>Hotel Arena</td>\n",
              "      <td>194</td>\n",
              "      <td>7.7</td>\n",
              "      <td>210</td>\n",
              "      <td>1403</td>\n",
              "      <td>26</td>\n",
              "      <td>1</td>\n",
              "      <td>3.8</td>\n",
              "      <td>[' Leisure trip ', ' Solo traveler ', ' Duplex...</td>\n",
              "      <td>3 days</td>\n",
              "      <td>52.360576</td>\n",
              "      <td>4.915968</td>\n",
              "      <td>7</td>\n",
              "      <td>2017</td>\n",
              "      <td>3</td>\n",
              "      <td>0</td>\n",
              "    </tr>\n",
              "    <tr>\n",
              "      <th>4</th>\n",
              "      <td>Hotel Arena</td>\n",
              "      <td>194</td>\n",
              "      <td>7.7</td>\n",
              "      <td>140</td>\n",
              "      <td>1403</td>\n",
              "      <td>8</td>\n",
              "      <td>3</td>\n",
              "      <td>6.7</td>\n",
              "      <td>[' Leisure trip ', ' Couple ', ' Suite ', ' St...</td>\n",
              "      <td>10 days</td>\n",
              "      <td>52.360576</td>\n",
              "      <td>4.915968</td>\n",
              "      <td>7</td>\n",
              "      <td>2017</td>\n",
              "      <td>4</td>\n",
              "      <td>0</td>\n",
              "    </tr>\n",
              "  </tbody>\n",
              "</table>\n",
              "</div>"
            ],
            "text/plain": [
              "    Hotel_Name  ...  Hotel_Name_ID\n",
              "0  Hotel Arena  ...              0\n",
              "1  Hotel Arena  ...              0\n",
              "2  Hotel Arena  ...              0\n",
              "3  Hotel Arena  ...              0\n",
              "4  Hotel Arena  ...              0\n",
              "\n",
              "[5 rows x 16 columns]"
            ]
          },
          "metadata": {
            "tags": []
          },
          "execution_count": 39
        }
      ]
    },
    {
      "cell_type": "code",
      "metadata": {
        "id": "qK4E3-cY3ZCe"
      },
      "source": [
        "def dsr(day):\n",
        "  if day[0] == ' ' and day[-5:] == ' days':\n",
        "    return float(day[1:-5])\n",
        "  elif day[0] == ' ' and day[-4:] == ' day':\n",
        "    return float(day[1:-4])\n",
        "  elif day[-4:] == ' day':\n",
        "    return float(day[:-4])\n",
        "  elif day[2:] == ' days':\n",
        "    return float(day[:2])\n",
        "  elif day[1:] == ' days':\n",
        "    return float(day[:2])\n",
        "  elif day[3:] == ' days':\n",
        "    return float(day[:3])"
      ],
      "execution_count": null,
      "outputs": []
    },
    {
      "cell_type": "code",
      "metadata": {
        "id": "siwvMu4R4t19"
      },
      "source": [
        "new_df['days_since_review_ID'] = new_df['days_since_review'].apply(dsr)"
      ],
      "execution_count": null,
      "outputs": []
    },
    {
      "cell_type": "code",
      "metadata": {
        "id": "Qefe2jplEtUD",
        "outputId": "046d9108-c14c-4612-eb91-812fe42643b3",
        "colab": {
          "base_uri": "https://localhost:8080/",
          "height": 568
        }
      },
      "source": [
        "new_df.head()"
      ],
      "execution_count": null,
      "outputs": [
        {
          "output_type": "execute_result",
          "data": {
            "text/html": [
              "<div>\n",
              "<style scoped>\n",
              "    .dataframe tbody tr th:only-of-type {\n",
              "        vertical-align: middle;\n",
              "    }\n",
              "\n",
              "    .dataframe tbody tr th {\n",
              "        vertical-align: top;\n",
              "    }\n",
              "\n",
              "    .dataframe thead th {\n",
              "        text-align: right;\n",
              "    }\n",
              "</style>\n",
              "<table border=\"1\" class=\"dataframe\">\n",
              "  <thead>\n",
              "    <tr style=\"text-align: right;\">\n",
              "      <th></th>\n",
              "      <th>Hotel_Name</th>\n",
              "      <th>Additional_Number_of_Scoring</th>\n",
              "      <th>Average_Score</th>\n",
              "      <th>Review_Total_Negative_Word_Counts</th>\n",
              "      <th>Total_Number_of_Reviews</th>\n",
              "      <th>Review_Total_Positive_Word_Counts</th>\n",
              "      <th>Total_Number_of_Reviews_Reviewer_Has_Given</th>\n",
              "      <th>Reviewer_Score</th>\n",
              "      <th>Tags</th>\n",
              "      <th>days_since_review</th>\n",
              "      <th>lat</th>\n",
              "      <th>lng</th>\n",
              "      <th>Review_Month</th>\n",
              "      <th>Review_Year</th>\n",
              "      <th>Reviewer_Nationality_id</th>\n",
              "      <th>Hotel_Name_ID</th>\n",
              "      <th>days_since_review_ID</th>\n",
              "    </tr>\n",
              "  </thead>\n",
              "  <tbody>\n",
              "    <tr>\n",
              "      <th>0</th>\n",
              "      <td>Hotel Arena</td>\n",
              "      <td>194</td>\n",
              "      <td>7.7</td>\n",
              "      <td>397</td>\n",
              "      <td>1403</td>\n",
              "      <td>11</td>\n",
              "      <td>7</td>\n",
              "      <td>2.9</td>\n",
              "      <td>[' Leisure trip ', ' Couple ', ' Duplex Double...</td>\n",
              "      <td>0 days</td>\n",
              "      <td>52.360576</td>\n",
              "      <td>4.915968</td>\n",
              "      <td>8</td>\n",
              "      <td>2017</td>\n",
              "      <td>0</td>\n",
              "      <td>0</td>\n",
              "      <td>0.0</td>\n",
              "    </tr>\n",
              "    <tr>\n",
              "      <th>1</th>\n",
              "      <td>Hotel Arena</td>\n",
              "      <td>194</td>\n",
              "      <td>7.7</td>\n",
              "      <td>0</td>\n",
              "      <td>1403</td>\n",
              "      <td>105</td>\n",
              "      <td>7</td>\n",
              "      <td>7.5</td>\n",
              "      <td>[' Leisure trip ', ' Couple ', ' Duplex Double...</td>\n",
              "      <td>0 days</td>\n",
              "      <td>52.360576</td>\n",
              "      <td>4.915968</td>\n",
              "      <td>8</td>\n",
              "      <td>2017</td>\n",
              "      <td>1</td>\n",
              "      <td>0</td>\n",
              "      <td>0.0</td>\n",
              "    </tr>\n",
              "    <tr>\n",
              "      <th>2</th>\n",
              "      <td>Hotel Arena</td>\n",
              "      <td>194</td>\n",
              "      <td>7.7</td>\n",
              "      <td>42</td>\n",
              "      <td>1403</td>\n",
              "      <td>21</td>\n",
              "      <td>9</td>\n",
              "      <td>7.1</td>\n",
              "      <td>[' Leisure trip ', ' Family with young childre...</td>\n",
              "      <td>3 days</td>\n",
              "      <td>52.360576</td>\n",
              "      <td>4.915968</td>\n",
              "      <td>7</td>\n",
              "      <td>2017</td>\n",
              "      <td>2</td>\n",
              "      <td>0</td>\n",
              "      <td>3.0</td>\n",
              "    </tr>\n",
              "    <tr>\n",
              "      <th>3</th>\n",
              "      <td>Hotel Arena</td>\n",
              "      <td>194</td>\n",
              "      <td>7.7</td>\n",
              "      <td>210</td>\n",
              "      <td>1403</td>\n",
              "      <td>26</td>\n",
              "      <td>1</td>\n",
              "      <td>3.8</td>\n",
              "      <td>[' Leisure trip ', ' Solo traveler ', ' Duplex...</td>\n",
              "      <td>3 days</td>\n",
              "      <td>52.360576</td>\n",
              "      <td>4.915968</td>\n",
              "      <td>7</td>\n",
              "      <td>2017</td>\n",
              "      <td>3</td>\n",
              "      <td>0</td>\n",
              "      <td>3.0</td>\n",
              "    </tr>\n",
              "    <tr>\n",
              "      <th>4</th>\n",
              "      <td>Hotel Arena</td>\n",
              "      <td>194</td>\n",
              "      <td>7.7</td>\n",
              "      <td>140</td>\n",
              "      <td>1403</td>\n",
              "      <td>8</td>\n",
              "      <td>3</td>\n",
              "      <td>6.7</td>\n",
              "      <td>[' Leisure trip ', ' Couple ', ' Suite ', ' St...</td>\n",
              "      <td>10 days</td>\n",
              "      <td>52.360576</td>\n",
              "      <td>4.915968</td>\n",
              "      <td>7</td>\n",
              "      <td>2017</td>\n",
              "      <td>4</td>\n",
              "      <td>0</td>\n",
              "      <td>10.0</td>\n",
              "    </tr>\n",
              "  </tbody>\n",
              "</table>\n",
              "</div>"
            ],
            "text/plain": [
              "    Hotel_Name  ...  days_since_review_ID\n",
              "0  Hotel Arena  ...                   0.0\n",
              "1  Hotel Arena  ...                   0.0\n",
              "2  Hotel Arena  ...                   3.0\n",
              "3  Hotel Arena  ...                   3.0\n",
              "4  Hotel Arena  ...                  10.0\n",
              "\n",
              "[5 rows x 17 columns]"
            ]
          },
          "metadata": {
            "tags": []
          },
          "execution_count": 42
        }
      ]
    },
    {
      "cell_type": "code",
      "metadata": {
        "id": "SYUMkMEyHn9t",
        "outputId": "245ce143-67fd-4af5-f8cd-eceac02eda8c",
        "colab": {
          "base_uri": "https://localhost:8080/",
          "height": 1000
        }
      },
      "source": [
        "new_df['days_since_review'].unique()"
      ],
      "execution_count": null,
      "outputs": [
        {
          "output_type": "execute_result",
          "data": {
            "text/plain": [
              "array(['0 days', '3 days', '10 days', '17 days', '25 days', '26 days',\n",
              "       '27 days', '28 days', '30 days', '31 days', '34 days', '35 days',\n",
              "       '44 days', '45 days', '52 days', '54 days', '66 days', '68 days',\n",
              "       '70 days', '73 days', '74 days', '79 days', '84 days', '86 days',\n",
              "       '93 days', '98 days', '99 days', '105 day', '106 day', '107 day',\n",
              "       '109 day', '111 day', '115 day', '120 day', '127 day', '134 day',\n",
              "       '136 day', '137 day', '138 day', '140 day', '150 day', '164 day',\n",
              "       '167 day', '170 day', '175 day', '178 day', '186 day', '188 day',\n",
              "       '190 day', '196 day', '207 day', '217 day', '218 day', '225 day',\n",
              "       '226 day', '227 day', '231 day', '232 day', '233 day', '234 day',\n",
              "       '235 day', '236 day', '239 day', '261 day', '269 day', '270 day',\n",
              "       '274 day', '276 day', '277 day', '281 day', '282 day', '283 day',\n",
              "       '294 day', '295 day', '296 day', '301 day', '303 day', '310 day',\n",
              "       '318 day', '319 day', '325 day', '328 day', '337 day', '355 day',\n",
              "       '369 day', '372 day', '373 day', '379 day', '382 day', '385 day',\n",
              "       '390 day', '394 day', '397 day', '400 day', '402 day', '412 day',\n",
              "       '413 day', '424 day', '428 day', '432 day', '438 day', '443 day',\n",
              "       '453 day', '457 day', '459 day', '464 day', '466 day', '467 day',\n",
              "       '468 day', '471 day', '473 day', '478 day', '483 day', '485 day',\n",
              "       '492 day', '498 day', '501 day', '504 day', '505 day', '506 day',\n",
              "       '509 day', '519 day', '520 day', '521 day', '530 day', '534 day',\n",
              "       '535 day', '540 day', '541 day', '542 day', '543 day', '546 day',\n",
              "       '547 day', '548 day', '549 day', '555 day', '558 day', '562 day',\n",
              "       '566 day', '569 day', '576 day', '578 day', '579 day', '581 day',\n",
              "       '586 day', '590 day', '597 day', '599 day', '604 day', '609 day',\n",
              "       '613 day', '618 day', '625 day', '627 day', '628 day', '631 day',\n",
              "       '632 day', '636 day', '639 day', '641 day', '643 day', '644 day',\n",
              "       '647 day', '648 day', '650 day', '651 day', '652 day', '654 day',\n",
              "       '655 day', '656 day', '659 day', '669 day', '673 day', '674 day',\n",
              "       '675 day', '677 day', '678 day', '683 day', '685 day', '691 day',\n",
              "       '692 day', '696 day', '698 day', '700 day', '702 day', '704 day',\n",
              "       '707 day', '708 day', '709 day', '714 day', '716 day', '720 day',\n",
              "       '723 day', '728 day', '730 day', '12 days', '15 days', '22 days',\n",
              "       '24 days', '39 days', '40 days', '47 days', '51 days', '59 days',\n",
              "       '80 days', '91 days', '92 days', '94 days', '97 days', '101 day',\n",
              "       '114 day', '121 day', '143 day', '146 day', '149 day', '152 day',\n",
              "       '169 day', '171 day', '176 day', '179 day', '181 day', '182 day',\n",
              "       '185 day', '191 day', '193 day', '194 day', '211 day', '212 day',\n",
              "       '219 day', '240 day', '248 day', '249 day', '288 day', '289 day',\n",
              "       '304 day', '340 day', '341 day', '342 day', '354 day', '359 day',\n",
              "       '360 day', '361 day', '366 day', '370 day', '376 day', '380 day',\n",
              "       '392 day', '403 day', '425 day', '426 day', '430 day', '431 day',\n",
              "       '439 day', '441 day', '447 day', '460 day', '465 day', '476 day',\n",
              "       '480 day', '490 day', '494 day', '495 day', '508 day', '513 day',\n",
              "       '518 day', '523 day', '525 day', '528 day', '559 day', '565 day',\n",
              "       '570 day', '573 day', '582 day', '598 day', '602 day', '616 day',\n",
              "       '621 day', '623 day', '630 day', '645 day', '646 day', '653 day',\n",
              "       '660 day', '668 day', '671 day', '672 day', '684 day', '687 day',\n",
              "       '688 day', '694 day', '697 day', '699 day', '711 day', '712 day',\n",
              "       '717 day', '718 day', '725 day', '1 days', '14 days', '16 days',\n",
              "       '37 days', '41 days', '53 days', '57 days', '64 days', '69 days',\n",
              "       '82 days', '90 days', '102 day', '116 day', '125 day', '129 day',\n",
              "       '130 day', '145 day', '147 day', '148 day', '154 day', '156 day',\n",
              "       '165 day', '172 day', '174 day', '180 day', '192 day', '197 day',\n",
              "       '199 day', '200 day', '202 day', '206 day', '216 day', '220 day',\n",
              "       '224 day', '228 day', '230 day', '238 day', '243 day', '244 day',\n",
              "       '253 day', '260 day', '262 day', '263 day', '264 day', '268 day',\n",
              "       '271 day', '273 day', '284 day', '285 day', '286 day', '291 day',\n",
              "       '292 day', '299 day', '308 day', '309 day', '312 day', '333 day',\n",
              "       '343 day', '345 day', '350 day', '352 day', '364 day', '365 day',\n",
              "       '401 day', '408 day', '415 day', '418 day', '419 day', '423 day',\n",
              "       '440 day', '442 day', '444 day', '449 day', '454 day', '461 day',\n",
              "       '463 day', '469 day', '472 day', '481 day', '482 day', '487 day',\n",
              "       '489 day', '493 day', '497 day', '499 day', '500 day', '503 day',\n",
              "       '512 day', '514 day', '516 day', '517 day', '522 day', '526 day',\n",
              "       '527 day', '529 day', '532 day', '537 day', '538 day', '539 day',\n",
              "       '545 day', '550 day', '557 day', '560 day', '563 day', '571 day',\n",
              "       '583 day', '585 day', '587 day', '588 day', '594 day', '596 day',\n",
              "       '611 day', '614 day', '615 day', '635 day', '649 day', '665 day',\n",
              "       '2 days', '8 days', '18 days', '46 days', '72 days', '85 days',\n",
              "       '100 day', '144 day', '163 day', '166 day', '168 day', '173 day',\n",
              "       '189 day', '198 day', '203 day', '205 day', '246 day', '247 day',\n",
              "       '254 day', '266 day', '272 day', '279 day', '302 day', '305 day',\n",
              "       '311 day', '313 day', '321 day', '334 day', '336 day', '344 day',\n",
              "       '346 day', '347 day', '348 day', '349 day', '357 day', '367 day',\n",
              "       '387 day', '389 day', '391 day', '396 day', '407 day', '409 day',\n",
              "       '422 day', '429 day', '433 day', '434 day', '435 day', '446 day',\n",
              "       '448 day', '451 day', '486 day', '488 day', '496 day', '502 day',\n",
              "       '507 day', '510 day', '511 day', '515 day', '524 day', '531 day',\n",
              "       '533 day', '536 day', '544 day', '551 day', '564 day', '567 day',\n",
              "       '574 day', '595 day', '600 day', '605 day', '610 day', '661 day',\n",
              "       '662 day', '664 day', '667 day', '670 day', '676 day', '681 day',\n",
              "       '686 day', '29 days', '33 days', '50 days', '78 days', '81 days',\n",
              "       '104 day', '151 day', '155 day', '157 day', '160 day', '177 day',\n",
              "       '215 day', '221 day', '222 day', '223 day', '241 day', '242 day',\n",
              "       '245 day', '252 day', '275 day', '278 day', '293 day', '297 day',\n",
              "       '298 day', '306 day', '307 day', '314 day', '322 day', '327 day',\n",
              "       '331 day', '338 day', '363 day', '371 day', '374 day', '377 day',\n",
              "       '386 day', '393 day', '398 day', '414 day', '417 day', '420 day',\n",
              "       '436 day', '445 day', '456 day', '458 day', '470 day', '474 day',\n",
              "       '484 day', '553 day', '554 day', '568 day', '577 day', '580 day',\n",
              "       '584 day', '591 day', '593 day', '603 day', '606 day', '612 day',\n",
              "       '622 day', '634 day', '637 day', '640 day', '642 day', '680 day',\n",
              "       '693 day', '695 day', '713 day', '719 day', '721 day', '727 day',\n",
              "       '23 days', '60 days', '63 days', '65 days', '71 days', '87 days',\n",
              "       '88 days', '95 days', '118 day', '124 day', '128 day', '133 day',\n",
              "       '135 day', '139 day', '142 day', '161 day', '184 day', '204 day',\n",
              "       '208 day', '209 day', '213 day', '214 day', '237 day', '255 day',\n",
              "       '256 day', '258 day', '265 day', '267 day', '290 day', '317 day',\n",
              "       '324 day', '335 day', '351 day', '356 day', '362 day', '381 day',\n",
              "       '383 day', '388 day', '395 day', '406 day', '410 day', '427 day',\n",
              "       '450 day', '452 day', '479 day', '491 day', '552 day', '561 day',\n",
              "       '572 day', '589 day', '592 day', '617 day', '619 day', '620 day',\n",
              "       '624 day', '658 day', '682 day', '701 day', '705 day', '20 days',\n",
              "       '32 days', '36 days', '42 days', '43 days', '48 days', '49 days',\n",
              "       '55 days', '56 days', '58 days', '67 days', '76 days', '108 day',\n",
              "       '110 day', '112 day', '113 day', '117 day', '119 day', '123 day',\n",
              "       '126 day', '131 day', '132 day', '141 day', '162 day', '183 day',\n",
              "       '187 day', '201 day', '229 day', '250 day', '251 day', '257 day',\n",
              "       '280 day', '315 day', '326 day', '329 day', '332 day', '339 day',\n",
              "       '353 day', '358 day', '375 day', '378 day', '399 day', '404 day',\n",
              "       '405 day', '437 day', '462 day', '556 day', '601 day', '626 day',\n",
              "       '638 day', '657 day', '679 day', '690 day', '706 day', '710 day',\n",
              "       '722 day', '724 day', '726 day', '4 days', '21 days', '38 days',\n",
              "       '62 days', '103 day', '153 day', '159 day', '195 day', '259 day',\n",
              "       '287 day', '320 day', '330 day', '368 day', '384 day', '455 day',\n",
              "       '475 day', '575 day', '607 day', '666 day', '715 day', '729 day',\n",
              "       '411 day', '421 day', '608 day', '629 day', '663 day', '689 day',\n",
              "       '703 day', '477 day', '633 day', '5 days', '9 days', '13 days',\n",
              "       '75 days', '77 days', '89 days', '122 day', '158 day', '300 day',\n",
              "       '416 day', '61 days', '210 day', '316 day', '323 day', '83 days',\n",
              "       '6 days', '11 days', '7 days', '96 days', '19 days'], dtype=object)"
            ]
          },
          "metadata": {
            "tags": []
          },
          "execution_count": 43
        }
      ]
    },
    {
      "cell_type": "code",
      "metadata": {
        "id": "Kk4AkXRMIvWD",
        "outputId": "6435c7d2-ea3f-49a0-f6f5-f1c0da1d59f7",
        "colab": {
          "base_uri": "https://localhost:8080/",
          "height": 1000
        }
      },
      "source": [
        "new_df['days_since_review_ID'].unique()"
      ],
      "execution_count": null,
      "outputs": [
        {
          "output_type": "execute_result",
          "data": {
            "text/plain": [
              "array([  0.,   3.,  10.,  17.,  25.,  26.,  27.,  28.,  30.,  31.,  34.,\n",
              "        35.,  44.,  45.,  52.,  54.,  66.,  68.,  70.,  73.,  74.,  79.,\n",
              "        84.,  86.,  93.,  98.,  99., 105., 106., 107., 109., 111., 115.,\n",
              "       120., 127., 134., 136., 137., 138., 140., 150., 164., 167., 170.,\n",
              "       175., 178., 186., 188., 190., 196., 207., 217., 218., 225., 226.,\n",
              "       227., 231., 232., 233., 234., 235., 236., 239., 261., 269., 270.,\n",
              "       274., 276., 277., 281., 282., 283., 294., 295., 296., 301., 303.,\n",
              "       310., 318., 319., 325., 328., 337., 355., 369., 372., 373., 379.,\n",
              "       382., 385., 390., 394., 397., 400., 402., 412., 413., 424., 428.,\n",
              "       432., 438., 443., 453., 457., 459., 464., 466., 467., 468., 471.,\n",
              "       473., 478., 483., 485., 492., 498., 501., 504., 505., 506., 509.,\n",
              "       519., 520., 521., 530., 534., 535., 540., 541., 542., 543., 546.,\n",
              "       547., 548., 549., 555., 558., 562., 566., 569., 576., 578., 579.,\n",
              "       581., 586., 590., 597., 599., 604., 609., 613., 618., 625., 627.,\n",
              "       628., 631., 632., 636., 639., 641., 643., 644., 647., 648., 650.,\n",
              "       651., 652., 654., 655., 656., 659., 669., 673., 674., 675., 677.,\n",
              "       678., 683., 685., 691., 692., 696., 698., 700., 702., 704., 707.,\n",
              "       708., 709., 714., 716., 720., 723., 728., 730.,  12.,  15.,  22.,\n",
              "        24.,  39.,  40.,  47.,  51.,  59.,  80.,  91.,  92.,  94.,  97.,\n",
              "       101., 114., 121., 143., 146., 149., 152., 169., 171., 176., 179.,\n",
              "       181., 182., 185., 191., 193., 194., 211., 212., 219., 240., 248.,\n",
              "       249., 288., 289., 304., 340., 341., 342., 354., 359., 360., 361.,\n",
              "       366., 370., 376., 380., 392., 403., 425., 426., 430., 431., 439.,\n",
              "       441., 447., 460., 465., 476., 480., 490., 494., 495., 508., 513.,\n",
              "       518., 523., 525., 528., 559., 565., 570., 573., 582., 598., 602.,\n",
              "       616., 621., 623., 630., 645., 646., 653., 660., 668., 671., 672.,\n",
              "       684., 687., 688., 694., 697., 699., 711., 712., 717., 718., 725.,\n",
              "         1.,  14.,  16.,  37.,  41.,  53.,  57.,  64.,  69.,  82.,  90.,\n",
              "       102., 116., 125., 129., 130., 145., 147., 148., 154., 156., 165.,\n",
              "       172., 174., 180., 192., 197., 199., 200., 202., 206., 216., 220.,\n",
              "       224., 228., 230., 238., 243., 244., 253., 260., 262., 263., 264.,\n",
              "       268., 271., 273., 284., 285., 286., 291., 292., 299., 308., 309.,\n",
              "       312., 333., 343., 345., 350., 352., 364., 365., 401., 408., 415.,\n",
              "       418., 419., 423., 440., 442., 444., 449., 454., 461., 463., 469.,\n",
              "       472., 481., 482., 487., 489., 493., 497., 499., 500., 503., 512.,\n",
              "       514., 516., 517., 522., 526., 527., 529., 532., 537., 538., 539.,\n",
              "       545., 550., 557., 560., 563., 571., 583., 585., 587., 588., 594.,\n",
              "       596., 611., 614., 615., 635., 649., 665.,   2.,   8.,  18.,  46.,\n",
              "        72.,  85., 100., 144., 163., 166., 168., 173., 189., 198., 203.,\n",
              "       205., 246., 247., 254., 266., 272., 279., 302., 305., 311., 313.,\n",
              "       321., 334., 336., 344., 346., 347., 348., 349., 357., 367., 387.,\n",
              "       389., 391., 396., 407., 409., 422., 429., 433., 434., 435., 446.,\n",
              "       448., 451., 486., 488., 496., 502., 507., 510., 511., 515., 524.,\n",
              "       531., 533., 536., 544., 551., 564., 567., 574., 595., 600., 605.,\n",
              "       610., 661., 662., 664., 667., 670., 676., 681., 686.,  29.,  33.,\n",
              "        50.,  78.,  81., 104., 151., 155., 157., 160., 177., 215., 221.,\n",
              "       222., 223., 241., 242., 245., 252., 275., 278., 293., 297., 298.,\n",
              "       306., 307., 314., 322., 327., 331., 338., 363., 371., 374., 377.,\n",
              "       386., 393., 398., 414., 417., 420., 436., 445., 456., 458., 470.,\n",
              "       474., 484., 553., 554., 568., 577., 580., 584., 591., 593., 603.,\n",
              "       606., 612., 622., 634., 637., 640., 642., 680., 693., 695., 713.,\n",
              "       719., 721., 727.,  23.,  60.,  63.,  65.,  71.,  87.,  88.,  95.,\n",
              "       118., 124., 128., 133., 135., 139., 142., 161., 184., 204., 208.,\n",
              "       209., 213., 214., 237., 255., 256., 258., 265., 267., 290., 317.,\n",
              "       324., 335., 351., 356., 362., 381., 383., 388., 395., 406., 410.,\n",
              "       427., 450., 452., 479., 491., 552., 561., 572., 589., 592., 617.,\n",
              "       619., 620., 624., 658., 682., 701., 705.,  20.,  32.,  36.,  42.,\n",
              "        43.,  48.,  49.,  55.,  56.,  58.,  67.,  76., 108., 110., 112.,\n",
              "       113., 117., 119., 123., 126., 131., 132., 141., 162., 183., 187.,\n",
              "       201., 229., 250., 251., 257., 280., 315., 326., 329., 332., 339.,\n",
              "       353., 358., 375., 378., 399., 404., 405., 437., 462., 556., 601.,\n",
              "       626., 638., 657., 679., 690., 706., 710., 722., 724., 726.,   4.,\n",
              "        21.,  38.,  62., 103., 153., 159., 195., 259., 287., 320., 330.,\n",
              "       368., 384., 455., 475., 575., 607., 666., 715., 729., 411., 421.,\n",
              "       608., 629., 663., 689., 703., 477., 633.,   5.,   9.,  13.,  75.,\n",
              "        77.,  89., 122., 158., 300., 416.,  61., 210., 316., 323.,  83.,\n",
              "         6.,  11.,   7.,  96.,  19.])"
            ]
          },
          "metadata": {
            "tags": []
          },
          "execution_count": 44
        }
      ]
    },
    {
      "cell_type": "code",
      "metadata": {
        "id": "v_AS_tFg5C57",
        "outputId": "d8436986-7be9-4bb3-dc58-0375da1edb59",
        "colab": {
          "base_uri": "https://localhost:8080/",
          "height": 407
        }
      },
      "source": [
        "new_df.info()"
      ],
      "execution_count": null,
      "outputs": [
        {
          "output_type": "stream",
          "text": [
            "<class 'pandas.core.frame.DataFrame'>\n",
            "RangeIndex: 515738 entries, 0 to 515737\n",
            "Data columns (total 17 columns):\n",
            " #   Column                                      Non-Null Count   Dtype  \n",
            "---  ------                                      --------------   -----  \n",
            " 0   Hotel_Name                                  515738 non-null  object \n",
            " 1   Additional_Number_of_Scoring                515738 non-null  int64  \n",
            " 2   Average_Score                               515738 non-null  float64\n",
            " 3   Review_Total_Negative_Word_Counts           515738 non-null  int64  \n",
            " 4   Total_Number_of_Reviews                     515738 non-null  int64  \n",
            " 5   Review_Total_Positive_Word_Counts           515738 non-null  int64  \n",
            " 6   Total_Number_of_Reviews_Reviewer_Has_Given  515738 non-null  int64  \n",
            " 7   Reviewer_Score                              515738 non-null  float64\n",
            " 8   Tags                                        515738 non-null  object \n",
            " 9   days_since_review                           515738 non-null  object \n",
            " 10  lat                                         515738 non-null  float64\n",
            " 11  lng                                         515738 non-null  float64\n",
            " 12  Review_Month                                515738 non-null  object \n",
            " 13  Review_Year                                 515738 non-null  int64  \n",
            " 14  Reviewer_Nationality_id                     515738 non-null  int64  \n",
            " 15  Hotel_Name_ID                               515738 non-null  int64  \n",
            " 16  days_since_review_ID                        515738 non-null  float64\n",
            "dtypes: float64(5), int64(8), object(4)\n",
            "memory usage: 66.9+ MB\n"
          ],
          "name": "stdout"
        }
      ]
    },
    {
      "cell_type": "code",
      "metadata": {
        "id": "y2V6wB5H5HnR"
      },
      "source": [
        "def to_num(num):\n",
        "  return float(num)"
      ],
      "execution_count": null,
      "outputs": []
    },
    {
      "cell_type": "code",
      "metadata": {
        "id": "ahkyp96Z7HLC"
      },
      "source": [
        "new_df['Review_Month'] = new_df['Review_Month'].apply(to_num)"
      ],
      "execution_count": null,
      "outputs": []
    },
    {
      "cell_type": "code",
      "metadata": {
        "id": "o8Mo3_Bp7su0",
        "outputId": "738c4bd3-4b1f-4b19-be43-3872ec0e5597",
        "colab": {
          "base_uri": "https://localhost:8080/",
          "height": 211
        }
      },
      "source": [
        "new_df.head()"
      ],
      "execution_count": null,
      "outputs": [
        {
          "output_type": "execute_result",
          "data": {
            "text/html": [
              "<div>\n",
              "<style scoped>\n",
              "    .dataframe tbody tr th:only-of-type {\n",
              "        vertical-align: middle;\n",
              "    }\n",
              "\n",
              "    .dataframe tbody tr th {\n",
              "        vertical-align: top;\n",
              "    }\n",
              "\n",
              "    .dataframe thead th {\n",
              "        text-align: right;\n",
              "    }\n",
              "</style>\n",
              "<table border=\"1\" class=\"dataframe\">\n",
              "  <thead>\n",
              "    <tr style=\"text-align: right;\">\n",
              "      <th></th>\n",
              "      <th>Hotel_Name</th>\n",
              "      <th>Additional_Number_of_Scoring</th>\n",
              "      <th>Average_Score</th>\n",
              "      <th>Review_Total_Negative_Word_Counts</th>\n",
              "      <th>Total_Number_of_Reviews</th>\n",
              "      <th>Review_Total_Positive_Word_Counts</th>\n",
              "      <th>Total_Number_of_Reviews_Reviewer_Has_Given</th>\n",
              "      <th>Reviewer_Score</th>\n",
              "      <th>lat</th>\n",
              "      <th>lng</th>\n",
              "      <th>Review_Month</th>\n",
              "      <th>Review_Year</th>\n",
              "      <th>Reviewer_Nationality_id</th>\n",
              "      <th>Hotel_Name_ID</th>\n",
              "      <th>days_since_review_ID</th>\n",
              "      <th>tag_ID</th>\n",
              "    </tr>\n",
              "  </thead>\n",
              "  <tbody>\n",
              "    <tr>\n",
              "      <th>0</th>\n",
              "      <td>Hotel Arena</td>\n",
              "      <td>194</td>\n",
              "      <td>7.7</td>\n",
              "      <td>397</td>\n",
              "      <td>1403</td>\n",
              "      <td>11</td>\n",
              "      <td>7</td>\n",
              "      <td>2.9</td>\n",
              "      <td>52.360576</td>\n",
              "      <td>4.915968</td>\n",
              "      <td>8.0</td>\n",
              "      <td>2017</td>\n",
              "      <td>0</td>\n",
              "      <td>0</td>\n",
              "      <td>0.0</td>\n",
              "      <td>0</td>\n",
              "    </tr>\n",
              "    <tr>\n",
              "      <th>1</th>\n",
              "      <td>Hotel Arena</td>\n",
              "      <td>194</td>\n",
              "      <td>7.7</td>\n",
              "      <td>0</td>\n",
              "      <td>1403</td>\n",
              "      <td>105</td>\n",
              "      <td>7</td>\n",
              "      <td>7.5</td>\n",
              "      <td>52.360576</td>\n",
              "      <td>4.915968</td>\n",
              "      <td>8.0</td>\n",
              "      <td>2017</td>\n",
              "      <td>1</td>\n",
              "      <td>0</td>\n",
              "      <td>0.0</td>\n",
              "      <td>1</td>\n",
              "    </tr>\n",
              "    <tr>\n",
              "      <th>2</th>\n",
              "      <td>Hotel Arena</td>\n",
              "      <td>194</td>\n",
              "      <td>7.7</td>\n",
              "      <td>42</td>\n",
              "      <td>1403</td>\n",
              "      <td>21</td>\n",
              "      <td>9</td>\n",
              "      <td>7.1</td>\n",
              "      <td>52.360576</td>\n",
              "      <td>4.915968</td>\n",
              "      <td>7.0</td>\n",
              "      <td>2017</td>\n",
              "      <td>2</td>\n",
              "      <td>0</td>\n",
              "      <td>3.0</td>\n",
              "      <td>2</td>\n",
              "    </tr>\n",
              "    <tr>\n",
              "      <th>3</th>\n",
              "      <td>Hotel Arena</td>\n",
              "      <td>194</td>\n",
              "      <td>7.7</td>\n",
              "      <td>210</td>\n",
              "      <td>1403</td>\n",
              "      <td>26</td>\n",
              "      <td>1</td>\n",
              "      <td>3.8</td>\n",
              "      <td>52.360576</td>\n",
              "      <td>4.915968</td>\n",
              "      <td>7.0</td>\n",
              "      <td>2017</td>\n",
              "      <td>3</td>\n",
              "      <td>0</td>\n",
              "      <td>3.0</td>\n",
              "      <td>3</td>\n",
              "    </tr>\n",
              "    <tr>\n",
              "      <th>4</th>\n",
              "      <td>Hotel Arena</td>\n",
              "      <td>194</td>\n",
              "      <td>7.7</td>\n",
              "      <td>140</td>\n",
              "      <td>1403</td>\n",
              "      <td>8</td>\n",
              "      <td>3</td>\n",
              "      <td>6.7</td>\n",
              "      <td>52.360576</td>\n",
              "      <td>4.915968</td>\n",
              "      <td>7.0</td>\n",
              "      <td>2017</td>\n",
              "      <td>4</td>\n",
              "      <td>0</td>\n",
              "      <td>10.0</td>\n",
              "      <td>4</td>\n",
              "    </tr>\n",
              "  </tbody>\n",
              "</table>\n",
              "</div>"
            ],
            "text/plain": [
              "    Hotel_Name  Additional_Number_of_Scoring  ...  days_since_review_ID  tag_ID\n",
              "0  Hotel Arena                           194  ...                   0.0       0\n",
              "1  Hotel Arena                           194  ...                   0.0       1\n",
              "2  Hotel Arena                           194  ...                   3.0       2\n",
              "3  Hotel Arena                           194  ...                   3.0       3\n",
              "4  Hotel Arena                           194  ...                  10.0       4\n",
              "\n",
              "[5 rows x 16 columns]"
            ]
          },
          "metadata": {
            "tags": []
          },
          "execution_count": 76
        }
      ]
    },
    {
      "cell_type": "code",
      "metadata": {
        "id": "QJd5snT97wp0"
      },
      "source": [
        "new_df.drop('days_since_review', axis=1, inplace=True)"
      ],
      "execution_count": null,
      "outputs": []
    },
    {
      "cell_type": "code",
      "metadata": {
        "id": "2xaLEXll-Y4q",
        "outputId": "c2dd1571-34f6-4aeb-dee3-9ddee64a931a",
        "colab": {
          "base_uri": "https://localhost:8080/",
          "height": 391
        }
      },
      "source": [
        "new_df.info()"
      ],
      "execution_count": null,
      "outputs": [
        {
          "output_type": "stream",
          "text": [
            "<class 'pandas.core.frame.DataFrame'>\n",
            "RangeIndex: 515738 entries, 0 to 515737\n",
            "Data columns (total 16 columns):\n",
            " #   Column                                      Non-Null Count   Dtype  \n",
            "---  ------                                      --------------   -----  \n",
            " 0   Hotel_Name                                  515738 non-null  object \n",
            " 1   Additional_Number_of_Scoring                515738 non-null  int64  \n",
            " 2   Average_Score                               515738 non-null  float64\n",
            " 3   Review_Total_Negative_Word_Counts           515738 non-null  int64  \n",
            " 4   Total_Number_of_Reviews                     515738 non-null  int64  \n",
            " 5   Review_Total_Positive_Word_Counts           515738 non-null  int64  \n",
            " 6   Total_Number_of_Reviews_Reviewer_Has_Given  515738 non-null  int64  \n",
            " 7   Reviewer_Score                              515738 non-null  float64\n",
            " 8   Tags                                        515738 non-null  object \n",
            " 9   lat                                         515738 non-null  float64\n",
            " 10  lng                                         515738 non-null  float64\n",
            " 11  Review_Month                                515738 non-null  float64\n",
            " 12  Review_Year                                 515738 non-null  int64  \n",
            " 13  Reviewer_Nationality_id                     515738 non-null  int64  \n",
            " 14  Hotel_Name_ID                               515738 non-null  int64  \n",
            " 15  days_since_review_ID                        515738 non-null  float64\n",
            "dtypes: float64(6), int64(8), object(2)\n",
            "memory usage: 63.0+ MB\n"
          ],
          "name": "stdout"
        }
      ]
    },
    {
      "cell_type": "code",
      "metadata": {
        "id": "uHxixS2rJcUM",
        "outputId": "9c7d36c4-e9e3-45c3-a927-ab35af97be60",
        "colab": {
          "base_uri": "https://localhost:8080/",
          "height": 33
        }
      },
      "source": [
        "new_df['Total_Number_of_Reviews'].nunique()"
      ],
      "execution_count": null,
      "outputs": [
        {
          "output_type": "execute_result",
          "data": {
            "text/plain": [
              "1142"
            ]
          },
          "metadata": {
            "tags": []
          },
          "execution_count": 51
        }
      ]
    },
    {
      "cell_type": "code",
      "metadata": {
        "id": "--R6EBKnJ3Ny",
        "outputId": "02eaeb3f-3a19-41b1-f3c8-015704d0b182",
        "colab": {
          "base_uri": "https://localhost:8080/",
          "height": 33
        }
      },
      "source": [
        "new_df['Total_Number_of_Reviews'].unique()"
      ],
      "execution_count": null,
      "outputs": [
        {
          "output_type": "execute_result",
          "data": {
            "text/plain": [
              "array([1403, 1831, 2619, ...,  717, 5945, 2823])"
            ]
          },
          "metadata": {
            "tags": []
          },
          "execution_count": 52
        }
      ]
    },
    {
      "cell_type": "code",
      "metadata": {
        "id": "uNfNLm_UKDy8",
        "outputId": "12f2a81f-772b-427e-ac4d-e30c52eb8c31",
        "colab": {
          "base_uri": "https://localhost:8080/",
          "height": 66
        }
      },
      "source": [
        "new_df['Average_Score'].unique()"
      ],
      "execution_count": null,
      "outputs": [
        {
          "output_type": "execute_result",
          "data": {
            "text/plain": [
              "array([7.7, 8.5, 9.2, 8.4, 7.2, 8. , 8.9, 8.2, 7.4, 9.5, 8.1, 8.7, 8.6,\n",
              "       8.3, 9.6, 9.4, 9.3, 9.1, 7.8, 9. , 7.1, 8.8, 7.9, 7.5, 7.6, 9.8,\n",
              "       6.8, 7. , 7.3, 6.6, 6.7, 6.9, 6.4, 5.2])"
            ]
          },
          "metadata": {
            "tags": []
          },
          "execution_count": 53
        }
      ]
    },
    {
      "cell_type": "code",
      "metadata": {
        "id": "quTx-MB-Z5Xw"
      },
      "source": [
        "ratings = pd.DataFrame(df.groupby('Hotel_Name')['Average_Score'].mean())"
      ],
      "execution_count": null,
      "outputs": []
    },
    {
      "cell_type": "code",
      "metadata": {
        "id": "9ARu8RGZlmRB"
      },
      "source": [
        "ratings['lat'] = df.groupby('Hotel_Name')['lat'].mean()\n",
        "ratings['lng'] = df.groupby('Hotel_Name')['lng'].mean()\n",
        "ratings['Reviewer_Score'] = df.groupby('Hotel_Name')['Reviewer_Score'].mean()\n",
        "ratings['Additional_Number_of_Scoring'] = df.groupby('Hotel_Name')['Additional_Number_of_Scoring'].mean()\n",
        "ratings['Total_Number_of_Reviews'] = new_df.groupby('Hotel_Name')['Total_Number_of_Reviews'].mean()\n",
        "ratings['Reviewer_Nationality_id'] = new_df.groupby('Hotel_Name')['Reviewer_Nationality_id'].mean()\n",
        "ratings['tag_ID'] = new_df.groupby('Hotel_Name')['tag_ID'].mean()"
      ],
      "execution_count": null,
      "outputs": []
    },
    {
      "cell_type": "code",
      "metadata": {
        "id": "PJh4iEvyaPsc",
        "outputId": "52f88ade-8125-4f67-c210-eb22cb84fcdb",
        "colab": {
          "base_uri": "https://localhost:8080/",
          "height": 363
        }
      },
      "source": [
        "ratings.head(10)"
      ],
      "execution_count": null,
      "outputs": [
        {
          "output_type": "execute_result",
          "data": {
            "text/html": [
              "<div>\n",
              "<style scoped>\n",
              "    .dataframe tbody tr th:only-of-type {\n",
              "        vertical-align: middle;\n",
              "    }\n",
              "\n",
              "    .dataframe tbody tr th {\n",
              "        vertical-align: top;\n",
              "    }\n",
              "\n",
              "    .dataframe thead th {\n",
              "        text-align: right;\n",
              "    }\n",
              "</style>\n",
              "<table border=\"1\" class=\"dataframe\">\n",
              "  <thead>\n",
              "    <tr style=\"text-align: right;\">\n",
              "      <th></th>\n",
              "      <th>Average_Score</th>\n",
              "      <th>lat</th>\n",
              "      <th>lng</th>\n",
              "      <th>Reviewer_Score</th>\n",
              "      <th>Additional_Number_of_Scoring</th>\n",
              "      <th>Total_Number_of_Reviews</th>\n",
              "      <th>Reviewer_Nationality_id</th>\n",
              "      <th>tag_ID</th>\n",
              "    </tr>\n",
              "    <tr>\n",
              "      <th>Hotel_Name</th>\n",
              "      <th></th>\n",
              "      <th></th>\n",
              "      <th></th>\n",
              "      <th></th>\n",
              "      <th></th>\n",
              "      <th></th>\n",
              "      <th></th>\n",
              "      <th></th>\n",
              "    </tr>\n",
              "  </thead>\n",
              "  <tbody>\n",
              "    <tr>\n",
              "      <th>11 Cadogan Gardens</th>\n",
              "      <td>8.7</td>\n",
              "      <td>51.493616</td>\n",
              "      <td>-0.159235</td>\n",
              "      <td>8.845283</td>\n",
              "      <td>101.0</td>\n",
              "      <td>393.0</td>\n",
              "      <td>13.037736</td>\n",
              "      <td>4519.805031</td>\n",
              "    </tr>\n",
              "    <tr>\n",
              "      <th>1K Hotel</th>\n",
              "      <td>7.7</td>\n",
              "      <td>48.863932</td>\n",
              "      <td>2.365874</td>\n",
              "      <td>7.861486</td>\n",
              "      <td>69.0</td>\n",
              "      <td>663.0</td>\n",
              "      <td>18.520270</td>\n",
              "      <td>8536.263514</td>\n",
              "    </tr>\n",
              "    <tr>\n",
              "      <th>25hours Hotel beim MuseumsQuartier</th>\n",
              "      <td>8.8</td>\n",
              "      <td>48.206474</td>\n",
              "      <td>16.354630</td>\n",
              "      <td>8.983309</td>\n",
              "      <td>391.0</td>\n",
              "      <td>4324.0</td>\n",
              "      <td>23.727141</td>\n",
              "      <td>16832.438316</td>\n",
              "    </tr>\n",
              "    <tr>\n",
              "      <th>41</th>\n",
              "      <td>9.6</td>\n",
              "      <td>51.498147</td>\n",
              "      <td>-0.143649</td>\n",
              "      <td>9.711650</td>\n",
              "      <td>66.0</td>\n",
              "      <td>244.0</td>\n",
              "      <td>13.223301</td>\n",
              "      <td>14949.339806</td>\n",
              "    </tr>\n",
              "    <tr>\n",
              "      <th>45 Park Lane Dorchester Collection</th>\n",
              "      <td>9.4</td>\n",
              "      <td>51.506371</td>\n",
              "      <td>-0.151536</td>\n",
              "      <td>9.603571</td>\n",
              "      <td>27.0</td>\n",
              "      <td>68.0</td>\n",
              "      <td>17.607143</td>\n",
              "      <td>10337.214286</td>\n",
              "    </tr>\n",
              "    <tr>\n",
              "      <th>88 Studios</th>\n",
              "      <td>8.4</td>\n",
              "      <td>51.499279</td>\n",
              "      <td>-0.209073</td>\n",
              "      <td>8.489107</td>\n",
              "      <td>197.0</td>\n",
              "      <td>955.0</td>\n",
              "      <td>12.786492</td>\n",
              "      <td>29322.871460</td>\n",
              "    </tr>\n",
              "    <tr>\n",
              "      <th>9Hotel Republique</th>\n",
              "      <td>8.8</td>\n",
              "      <td>48.870842</td>\n",
              "      <td>2.360586</td>\n",
              "      <td>8.743716</td>\n",
              "      <td>100.0</td>\n",
              "      <td>857.0</td>\n",
              "      <td>17.333333</td>\n",
              "      <td>3703.907104</td>\n",
              "    </tr>\n",
              "    <tr>\n",
              "      <th>A La Villa Madame</th>\n",
              "      <td>8.8</td>\n",
              "      <td>48.848861</td>\n",
              "      <td>2.331526</td>\n",
              "      <td>8.853659</td>\n",
              "      <td>24.0</td>\n",
              "      <td>185.0</td>\n",
              "      <td>15.390244</td>\n",
              "      <td>6421.951220</td>\n",
              "    </tr>\n",
              "    <tr>\n",
              "      <th>ABaC Restaurant Hotel Barcelona GL Monumento</th>\n",
              "      <td>8.8</td>\n",
              "      <td>41.410694</td>\n",
              "      <td>2.136294</td>\n",
              "      <td>8.464516</td>\n",
              "      <td>10.0</td>\n",
              "      <td>111.0</td>\n",
              "      <td>25.322581</td>\n",
              "      <td>32254.161290</td>\n",
              "    </tr>\n",
              "    <tr>\n",
              "      <th>AC Hotel Barcelona Forum a Marriott Lifestyle Hotel</th>\n",
              "      <td>8.1</td>\n",
              "      <td>41.410131</td>\n",
              "      <td>2.218805</td>\n",
              "      <td>8.001384</td>\n",
              "      <td>160.0</td>\n",
              "      <td>1560.0</td>\n",
              "      <td>20.411765</td>\n",
              "      <td>13740.809689</td>\n",
              "    </tr>\n",
              "  </tbody>\n",
              "</table>\n",
              "</div>"
            ],
            "text/plain": [
              "                                                    Average_Score  ...        tag_ID\n",
              "Hotel_Name                                                         ...              \n",
              "11 Cadogan Gardens                                            8.7  ...   4519.805031\n",
              "1K Hotel                                                      7.7  ...   8536.263514\n",
              "25hours Hotel beim MuseumsQuartier                            8.8  ...  16832.438316\n",
              "41                                                            9.6  ...  14949.339806\n",
              "45 Park Lane Dorchester Collection                            9.4  ...  10337.214286\n",
              "88 Studios                                                    8.4  ...  29322.871460\n",
              "9Hotel Republique                                             8.8  ...   3703.907104\n",
              "A La Villa Madame                                             8.8  ...   6421.951220\n",
              "ABaC Restaurant Hotel Barcelona GL Monumento                  8.8  ...  32254.161290\n",
              "AC Hotel Barcelona Forum a Marriott Lifestyle H...            8.1  ...  13740.809689\n",
              "\n",
              "[10 rows x 8 columns]"
            ]
          },
          "metadata": {
            "tags": []
          },
          "execution_count": 83
        }
      ]
    },
    {
      "cell_type": "code",
      "metadata": {
        "id": "7uLstyC6ndAK"
      },
      "source": [
        "ratings=ratings.transpose()"
      ],
      "execution_count": null,
      "outputs": []
    },
    {
      "cell_type": "code",
      "metadata": {
        "id": "vYzgzpU0tP_Q"
      },
      "source": [
        "ratings_df = pd.DataFrame(ratings.corr())"
      ],
      "execution_count": null,
      "outputs": []
    },
    {
      "cell_type": "code",
      "metadata": {
        "id": "Z2a_rORPvd_T",
        "outputId": "aa2d01a5-4132-4491-998c-b4bfa5c7c4be",
        "colab": {
          "base_uri": "https://localhost:8080/",
          "height": 375
        }
      },
      "source": [
        "ratings_df.sort_values('11 Cadogan Gardens',ascending=False).head(20)['11 Cadogan Gardens']"
      ],
      "execution_count": null,
      "outputs": [
        {
          "output_type": "execute_result",
          "data": {
            "text/plain": [
              "Hotel_Name\n",
              "11 Cadogan Gardens                      1.000000\n",
              "The Capital                             0.999990\n",
              "Four Seasons Hotel George V Paris       0.999988\n",
              "Good Hotel London                       0.999981\n",
              "The Dorchester Dorchester Collection    0.999976\n",
              "Lancaster London                        0.999973\n",
              "Hotel Indigo London Paddington          0.999973\n",
              "The Bryson Hotel                        0.999972\n",
              "St James Hotel Club Mayfair             0.999968\n",
              "Le Belmont Champs Elys es               0.999961\n",
              "The Victoria                            0.999961\n",
              "Le Pavillon de la Reine Spa             0.999960\n",
              "NH Amsterdam Museum Quarter             0.999958\n",
              "Hilton London Hyde Park                 0.999958\n",
              "Old Ship Inn Hackney                    0.999957\n",
              "Albus Hotel Amsterdam City Centre       0.999955\n",
              "Haymarket Hotel                         0.999955\n",
              "Hyatt Regency London The Churchill      0.999953\n",
              "H tel Fabric                            0.999950\n",
              "La Maison Favart                        0.999948\n",
              "Name: 11 Cadogan Gardens, dtype: float64"
            ]
          },
          "metadata": {
            "tags": []
          },
          "execution_count": 100
        }
      ]
    },
    {
      "cell_type": "code",
      "metadata": {
        "id": "V7cqzoEq2KYZ"
      },
      "source": [
        ""
      ],
      "execution_count": null,
      "outputs": []
    }
  ]
}